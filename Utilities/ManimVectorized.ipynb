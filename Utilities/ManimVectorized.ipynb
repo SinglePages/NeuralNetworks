{
 "cells": [
  {
   "cell_type": "code",
   "execution_count": 6,
   "metadata": {},
   "outputs": [],
   "source": [
    "from manim import *\n",
    "config.media_width = \"60%\"\n",
    "\n",
    "from notations import column_vector, row_vector, matrix"
   ]
  },
  {
   "cell_type": "code",
   "execution_count": 2,
   "metadata": {},
   "outputs": [
    {
     "name": "stderr",
     "output_type": "stream",
     "text": []
    },
    {
     "data": {
      "text/html": [
       "<video src=\"media/jupyter/DisplayMatrix@2021-10-18@15-15-14.mp4\" controls autoplay loop style=\"max-width: 60%;\"  >\n",
       "      Your browser does not support the <code>video</code> element.\n",
       "    </video>"
      ],
      "text/plain": [
       "<IPython.core.display.Video object>"
      ]
     },
     "metadata": {},
     "output_type": "display_data"
    }
   ],
   "source": [
    "%%manim -v WARNING -ql DisplayMatrix\n",
    "\n",
    "class DisplayMatrix(Scene):\n",
    "    def construct(self):\n",
    "        formula = MathTex(matrix(\"x^{(row)}_{col}\", \"N\", \"n_x\", True))\n",
    "        self.play(Write(formula), run_time=3)\n",
    "        self.wait()     "
   ]
  },
  {
   "cell_type": "code",
   "execution_count": 15,
   "metadata": {},
   "outputs": [
    {
     "data": {
      "text/html": [
       "<pre style=\"white-space:pre;overflow-x:auto;line-height:normal;font-family:Menlo,'DejaVu Sans Mono',consolas,'Courier New',monospace\"><span style=\"color: #7fbfbf; text-decoration-color: #7fbfbf\">[10/18/21 15:39:17] </span><span style=\"color: #800000; text-decoration-color: #800000; font-weight: bold\">ERROR   </span> LaTeX compilation error: Paragraph ended <a href=\"file:///usr/local/Caskroom/mambaforge/base/envs/ds/lib/python3.8/site-packages/manim/utils/tex_file_writing.py\"><span style=\"color: #7f7f7f; text-decoration-color: #7f7f7f\">tex_file_writing.py</span></a><span style=\"color: #7f7f7f; text-decoration-color: #7f7f7f\">:204</span>\n",
       "                             before \\align* was complete.                                    \n",
       "                                                                                             \n",
       "</pre>\n"
      ],
      "text/plain": [
       "\u001b[2;36m[10/18/21 15:39:17]\u001b[0m\u001b[2;36m \u001b[0m\u001b[1;31mERROR   \u001b[0m LaTeX compilation error: Paragraph ended \u001b]8;id=925097;file:///usr/local/Caskroom/mambaforge/base/envs/ds/lib/python3.8/site-packages/manim/utils/tex_file_writing.py\u001b\\\u001b[2mtex_file_writing.py\u001b[0m\u001b]8;;\u001b\\\u001b[2m:204\u001b[0m\n",
       "                             before \\align* was complete.                                    \n",
       "                                                                                             \n"
      ]
     },
     "metadata": {},
     "output_type": "display_data"
    },
    {
     "data": {
      "text/html": [
       "<pre style=\"white-space:pre;overflow-x:auto;line-height:normal;font-family:Menlo,'DejaVu Sans Mono',consolas,'Courier New',monospace\"><span style=\"color: #7fbfbf; text-decoration-color: #7fbfbf\">                    </span><span style=\"color: #800000; text-decoration-color: #800000; font-weight: bold\">ERROR   </span> Context for error:                       <a href=\"file:///usr/local/Caskroom/mambaforge/base/envs/ds/lib/python3.8/site-packages/manim/utils/tex_file_writing.py\"><span style=\"color: #7f7f7f; text-decoration-color: #7f7f7f\">tex_file_writing.py</span></a><span style=\"color: #7f7f7f; text-decoration-color: #7f7f7f\">:230</span>\n",
       "                                                                                             \n",
       "                             \\begin<span style=\"font-weight: bold\">{</span>bmatrix<span style=\"font-weight: bold\">}</span>                                                 \n",
       "                                 \\<span style=\"color: #800080; text-decoration-color: #800080; font-weight: bold\">sigma</span><span style=\"font-weight: bold\">(</span>                                                     \n",
       "                             \\end<span style=\"font-weight: bold\">{</span>align*<span style=\"font-weight: bold\">}</span>                                                    \n",
       "                                                                                             \n",
       "</pre>\n"
      ],
      "text/plain": [
       "\u001b[2;36m                   \u001b[0m\u001b[2;36m \u001b[0m\u001b[1;31mERROR   \u001b[0m Context for error:                       \u001b]8;id=558661;file:///usr/local/Caskroom/mambaforge/base/envs/ds/lib/python3.8/site-packages/manim/utils/tex_file_writing.py\u001b\\\u001b[2mtex_file_writing.py\u001b[0m\u001b]8;;\u001b\\\u001b[2m:230\u001b[0m\n",
       "                                                                                             \n",
       "                             \\begin\u001b[1m{\u001b[0mbmatrix\u001b[1m}\u001b[0m                                                 \n",
       "                                 \\\u001b[1;35msigma\u001b[0m\u001b[1m(\u001b[0m                                                     \n",
       "                             \\end\u001b[1m{\u001b[0malign*\u001b[1m}\u001b[0m                                                    \n",
       "                                                                                             \n"
      ]
     },
     "metadata": {},
     "output_type": "display_data"
    },
    {
     "data": {
      "text/html": [
       "<pre style=\"white-space:pre;overflow-x:auto;line-height:normal;font-family:Menlo,'DejaVu Sans Mono',consolas,'Courier New',monospace\"><span style=\"color: #7fbfbf; text-decoration-color: #7fbfbf\">                    </span><span style=\"color: #800000; text-decoration-color: #800000; font-weight: bold\">ERROR   </span> A group of double braces, <span style=\"font-weight: bold\">{{</span> <span style=\"color: #808000; text-decoration-color: #808000\">...</span> <span style=\"font-weight: bold\">}}</span>, was      <a href=\"file:///usr/local/Caskroom/mambaforge/base/envs/ds/lib/python3.8/site-packages/manim/mobject/svg/tex_mobject.py\"><span style=\"color: #7f7f7f; text-decoration-color: #7f7f7f\">tex_mobject.py</span></a><span style=\"color: #7f7f7f; text-decoration-color: #7f7f7f\">:292</span>\n",
       "                             detected in                                                     \n",
       "                             your string. Manim splits TeX strings at the                    \n",
       "                             double                                                          \n",
       "                             braces, which might have caused the current                     \n",
       "                             compilation error. If you didn't use the                        \n",
       "                             double brace                                                    \n",
       "                             split intentionally, add spaces between the                     \n",
       "                             braces to                                                       \n",
       "                             avoid the automatic splitting: <span style=\"font-weight: bold\">{{</span> <span style=\"color: #808000; text-decoration-color: #808000\">...</span> <span style=\"font-weight: bold\">}}</span> --&gt;                    \n",
       "                             <span style=\"font-weight: bold\">{</span> <span style=\"font-weight: bold\">{</span> <span style=\"color: #808000; text-decoration-color: #808000\">...</span> <span style=\"font-weight: bold\">}</span> <span style=\"font-weight: bold\">}</span>.                                                    \n",
       "                                                                                             \n",
       "</pre>\n"
      ],
      "text/plain": [
       "\u001b[2;36m                   \u001b[0m\u001b[2;36m \u001b[0m\u001b[1;31mERROR   \u001b[0m A group of double braces, \u001b[1m{\u001b[0m\u001b[1m{\u001b[0m \u001b[33m...\u001b[0m \u001b[1m}\u001b[0m\u001b[1m}\u001b[0m, was      \u001b]8;id=448175;file:///usr/local/Caskroom/mambaforge/base/envs/ds/lib/python3.8/site-packages/manim/mobject/svg/tex_mobject.py\u001b\\\u001b[2mtex_mobject.py\u001b[0m\u001b]8;;\u001b\\\u001b[2m:292\u001b[0m\n",
       "                             detected in                                                     \n",
       "                             your string. Manim splits TeX strings at the                    \n",
       "                             double                                                          \n",
       "                             braces, which might have caused the current                     \n",
       "                             compilation error. If you didn't use the                        \n",
       "                             double brace                                                    \n",
       "                             split intentionally, add spaces between the                     \n",
       "                             braces to                                                       \n",
       "                             avoid the automatic splitting: \u001b[1m{\u001b[0m\u001b[1m{\u001b[0m \u001b[33m...\u001b[0m \u001b[1m}\u001b[0m\u001b[1m}\u001b[0m -->                    \n",
       "                             \u001b[1m{\u001b[0m \u001b[1m{\u001b[0m \u001b[33m...\u001b[0m \u001b[1m}\u001b[0m \u001b[1m}\u001b[0m.                                                    \n",
       "                                                                                             \n"
      ]
     },
     "metadata": {},
     "output_type": "display_data"
    },
    {
     "ename": "ValueError",
     "evalue": "latex error converting to dvi. See log output above or the log file: media/Tex/13eca789d7cfd24e.log",
     "output_type": "error",
     "traceback": [
      "\u001b[0;31m---------------------------------------------------------------------------\u001b[0m",
      "\u001b[0;31mValueError\u001b[0m                                Traceback (most recent call last)",
      "\u001b[0;32m/var/folders/rb/yxfb87ys3w7934_vzlq4tfgc0000gp/T/ipykernel_91583/1859647003.py\u001b[0m in \u001b[0;36m<module>\u001b[0;34m\u001b[0m\n\u001b[0;32m----> 1\u001b[0;31m \u001b[0mget_ipython\u001b[0m\u001b[0;34m(\u001b[0m\u001b[0;34m)\u001b[0m\u001b[0;34m.\u001b[0m\u001b[0mrun_cell_magic\u001b[0m\u001b[0;34m(\u001b[0m\u001b[0;34m'manim'\u001b[0m\u001b[0;34m,\u001b[0m \u001b[0;34m'-v WARNING -ql TransformEquation'\u001b[0m\u001b[0;34m,\u001b[0m \u001b[0;34m'\\nclass TransformEquation(Scene):\\n    def construct(self):\\n        eq1 = MathTex(\"42 {{ a^2 }} + {{ b^2 }} = {{ c^2 }}\")\\n        eq2 = MathTex(\"42 {{ a^2 }} = {{ c^2 }} - {{ b^2 }}\")\\n        eq3 = MathTex(r\"a^2 = \\\\frac{c^2 - b^2}{42}\")\\n\\n        without_sigmoid = MathTex(matrix(\"\\\\\\\\sigma( {{ x^{(row)}_{col} }} )\", \"N\", \"n_x\", True))\\n        with_sigmoid = MathTex(matrix(\" {{ x^{(row)}_{col} }} \", \"N\", \"n_x\", True))\\n\\n        self.add(without_sigmoid)\\n        self.wait()\\n        self.play(TransformMatchingTex(without_sigmoid, with_sigmoid))\\n        self.wait()\\n        # self.play(TransformMatchingShapes(eq2, eq3))\\n        # self.wait()\\n'\u001b[0m\u001b[0;34m)\u001b[0m\u001b[0;34m\u001b[0m\u001b[0;34m\u001b[0m\u001b[0m\n\u001b[0m",
      "\u001b[0;32m/usr/local/Caskroom/mambaforge/base/envs/ds/lib/python3.8/site-packages/IPython/core/interactiveshell.py\u001b[0m in \u001b[0;36mrun_cell_magic\u001b[0;34m(self, magic_name, line, cell)\u001b[0m\n\u001b[1;32m   2401\u001b[0m             \u001b[0;32mwith\u001b[0m \u001b[0mself\u001b[0m\u001b[0;34m.\u001b[0m\u001b[0mbuiltin_trap\u001b[0m\u001b[0;34m:\u001b[0m\u001b[0;34m\u001b[0m\u001b[0;34m\u001b[0m\u001b[0m\n\u001b[1;32m   2402\u001b[0m                 \u001b[0margs\u001b[0m \u001b[0;34m=\u001b[0m \u001b[0;34m(\u001b[0m\u001b[0mmagic_arg_s\u001b[0m\u001b[0;34m,\u001b[0m \u001b[0mcell\u001b[0m\u001b[0;34m)\u001b[0m\u001b[0;34m\u001b[0m\u001b[0;34m\u001b[0m\u001b[0m\n\u001b[0;32m-> 2403\u001b[0;31m                 \u001b[0mresult\u001b[0m \u001b[0;34m=\u001b[0m \u001b[0mfn\u001b[0m\u001b[0;34m(\u001b[0m\u001b[0;34m*\u001b[0m\u001b[0margs\u001b[0m\u001b[0;34m,\u001b[0m \u001b[0;34m**\u001b[0m\u001b[0mkwargs\u001b[0m\u001b[0;34m)\u001b[0m\u001b[0;34m\u001b[0m\u001b[0;34m\u001b[0m\u001b[0m\n\u001b[0m\u001b[1;32m   2404\u001b[0m             \u001b[0;32mreturn\u001b[0m \u001b[0mresult\u001b[0m\u001b[0;34m\u001b[0m\u001b[0;34m\u001b[0m\u001b[0m\n\u001b[1;32m   2405\u001b[0m \u001b[0;34m\u001b[0m\u001b[0m\n",
      "\u001b[0;32m/usr/local/Caskroom/mambaforge/base/envs/ds/lib/python3.8/site-packages/decorator.py\u001b[0m in \u001b[0;36mfun\u001b[0;34m(*args, **kw)\u001b[0m\n\u001b[1;32m    230\u001b[0m             \u001b[0;32mif\u001b[0m \u001b[0;32mnot\u001b[0m \u001b[0mkwsyntax\u001b[0m\u001b[0;34m:\u001b[0m\u001b[0;34m\u001b[0m\u001b[0;34m\u001b[0m\u001b[0m\n\u001b[1;32m    231\u001b[0m                 \u001b[0margs\u001b[0m\u001b[0;34m,\u001b[0m \u001b[0mkw\u001b[0m \u001b[0;34m=\u001b[0m \u001b[0mfix\u001b[0m\u001b[0;34m(\u001b[0m\u001b[0margs\u001b[0m\u001b[0;34m,\u001b[0m \u001b[0mkw\u001b[0m\u001b[0;34m,\u001b[0m \u001b[0msig\u001b[0m\u001b[0;34m)\u001b[0m\u001b[0;34m\u001b[0m\u001b[0;34m\u001b[0m\u001b[0m\n\u001b[0;32m--> 232\u001b[0;31m             \u001b[0;32mreturn\u001b[0m \u001b[0mcaller\u001b[0m\u001b[0;34m(\u001b[0m\u001b[0mfunc\u001b[0m\u001b[0;34m,\u001b[0m \u001b[0;34m*\u001b[0m\u001b[0;34m(\u001b[0m\u001b[0mextras\u001b[0m \u001b[0;34m+\u001b[0m \u001b[0margs\u001b[0m\u001b[0;34m)\u001b[0m\u001b[0;34m,\u001b[0m \u001b[0;34m**\u001b[0m\u001b[0mkw\u001b[0m\u001b[0;34m)\u001b[0m\u001b[0;34m\u001b[0m\u001b[0;34m\u001b[0m\u001b[0m\n\u001b[0m\u001b[1;32m    233\u001b[0m     \u001b[0mfun\u001b[0m\u001b[0;34m.\u001b[0m\u001b[0m__name__\u001b[0m \u001b[0;34m=\u001b[0m \u001b[0mfunc\u001b[0m\u001b[0;34m.\u001b[0m\u001b[0m__name__\u001b[0m\u001b[0;34m\u001b[0m\u001b[0;34m\u001b[0m\u001b[0m\n\u001b[1;32m    234\u001b[0m     \u001b[0mfun\u001b[0m\u001b[0;34m.\u001b[0m\u001b[0m__doc__\u001b[0m \u001b[0;34m=\u001b[0m \u001b[0mfunc\u001b[0m\u001b[0;34m.\u001b[0m\u001b[0m__doc__\u001b[0m\u001b[0;34m\u001b[0m\u001b[0;34m\u001b[0m\u001b[0m\n",
      "\u001b[0;32m/usr/local/Caskroom/mambaforge/base/envs/ds/lib/python3.8/site-packages/IPython/core/magic.py\u001b[0m in \u001b[0;36m<lambda>\u001b[0;34m(f, *a, **k)\u001b[0m\n\u001b[1;32m    185\u001b[0m     \u001b[0;31m# but it's overkill for just that one bit of state.\u001b[0m\u001b[0;34m\u001b[0m\u001b[0;34m\u001b[0m\u001b[0;34m\u001b[0m\u001b[0m\n\u001b[1;32m    186\u001b[0m     \u001b[0;32mdef\u001b[0m \u001b[0mmagic_deco\u001b[0m\u001b[0;34m(\u001b[0m\u001b[0marg\u001b[0m\u001b[0;34m)\u001b[0m\u001b[0;34m:\u001b[0m\u001b[0;34m\u001b[0m\u001b[0;34m\u001b[0m\u001b[0m\n\u001b[0;32m--> 187\u001b[0;31m         \u001b[0mcall\u001b[0m \u001b[0;34m=\u001b[0m \u001b[0;32mlambda\u001b[0m \u001b[0mf\u001b[0m\u001b[0;34m,\u001b[0m \u001b[0;34m*\u001b[0m\u001b[0ma\u001b[0m\u001b[0;34m,\u001b[0m \u001b[0;34m**\u001b[0m\u001b[0mk\u001b[0m\u001b[0;34m:\u001b[0m \u001b[0mf\u001b[0m\u001b[0;34m(\u001b[0m\u001b[0;34m*\u001b[0m\u001b[0ma\u001b[0m\u001b[0;34m,\u001b[0m \u001b[0;34m**\u001b[0m\u001b[0mk\u001b[0m\u001b[0;34m)\u001b[0m\u001b[0;34m\u001b[0m\u001b[0;34m\u001b[0m\u001b[0m\n\u001b[0m\u001b[1;32m    188\u001b[0m \u001b[0;34m\u001b[0m\u001b[0m\n\u001b[1;32m    189\u001b[0m         \u001b[0;32mif\u001b[0m \u001b[0mcallable\u001b[0m\u001b[0;34m(\u001b[0m\u001b[0marg\u001b[0m\u001b[0;34m)\u001b[0m\u001b[0;34m:\u001b[0m\u001b[0;34m\u001b[0m\u001b[0;34m\u001b[0m\u001b[0m\n",
      "\u001b[0;32m/usr/local/Caskroom/mambaforge/base/envs/ds/lib/python3.8/site-packages/manim/utils/ipython_magic.py\u001b[0m in \u001b[0;36mmanim\u001b[0;34m(self, line, cell, local_ns)\u001b[0m\n\u001b[1;32m    127\u001b[0m                     \u001b[0mSceneClass\u001b[0m \u001b[0;34m=\u001b[0m \u001b[0mlocal_ns\u001b[0m\u001b[0;34m[\u001b[0m\u001b[0mconfig\u001b[0m\u001b[0;34m[\u001b[0m\u001b[0;34m\"scene_names\"\u001b[0m\u001b[0;34m]\u001b[0m\u001b[0;34m[\u001b[0m\u001b[0;36m0\u001b[0m\u001b[0;34m]\u001b[0m\u001b[0;34m]\u001b[0m\u001b[0;34m\u001b[0m\u001b[0;34m\u001b[0m\u001b[0m\n\u001b[1;32m    128\u001b[0m                     \u001b[0mscene\u001b[0m \u001b[0;34m=\u001b[0m \u001b[0mSceneClass\u001b[0m\u001b[0;34m(\u001b[0m\u001b[0mrenderer\u001b[0m\u001b[0;34m=\u001b[0m\u001b[0mrenderer\u001b[0m\u001b[0;34m)\u001b[0m\u001b[0;34m\u001b[0m\u001b[0;34m\u001b[0m\u001b[0m\n\u001b[0;32m--> 129\u001b[0;31m                     \u001b[0mscene\u001b[0m\u001b[0;34m.\u001b[0m\u001b[0mrender\u001b[0m\u001b[0;34m(\u001b[0m\u001b[0;34m)\u001b[0m\u001b[0;34m\u001b[0m\u001b[0;34m\u001b[0m\u001b[0m\n\u001b[0m\u001b[1;32m    130\u001b[0m                 \u001b[0;32mfinally\u001b[0m\u001b[0;34m:\u001b[0m\u001b[0;34m\u001b[0m\u001b[0;34m\u001b[0m\u001b[0m\n\u001b[1;32m    131\u001b[0m                     \u001b[0;31m# Shader cache becomes invalid as the context is destroyed\u001b[0m\u001b[0;34m\u001b[0m\u001b[0;34m\u001b[0m\u001b[0;34m\u001b[0m\u001b[0m\n",
      "\u001b[0;32m/usr/local/Caskroom/mambaforge/base/envs/ds/lib/python3.8/site-packages/manim/scene/scene.py\u001b[0m in \u001b[0;36mrender\u001b[0;34m(self, preview)\u001b[0m\n\u001b[1;32m    211\u001b[0m         \u001b[0mself\u001b[0m\u001b[0;34m.\u001b[0m\u001b[0msetup\u001b[0m\u001b[0;34m(\u001b[0m\u001b[0;34m)\u001b[0m\u001b[0;34m\u001b[0m\u001b[0;34m\u001b[0m\u001b[0m\n\u001b[1;32m    212\u001b[0m         \u001b[0;32mtry\u001b[0m\u001b[0;34m:\u001b[0m\u001b[0;34m\u001b[0m\u001b[0;34m\u001b[0m\u001b[0m\n\u001b[0;32m--> 213\u001b[0;31m             \u001b[0mself\u001b[0m\u001b[0;34m.\u001b[0m\u001b[0mconstruct\u001b[0m\u001b[0;34m(\u001b[0m\u001b[0;34m)\u001b[0m\u001b[0;34m\u001b[0m\u001b[0;34m\u001b[0m\u001b[0m\n\u001b[0m\u001b[1;32m    214\u001b[0m         \u001b[0;32mexcept\u001b[0m \u001b[0mEndSceneEarlyException\u001b[0m\u001b[0;34m:\u001b[0m\u001b[0;34m\u001b[0m\u001b[0;34m\u001b[0m\u001b[0m\n\u001b[1;32m    215\u001b[0m             \u001b[0;32mpass\u001b[0m\u001b[0;34m\u001b[0m\u001b[0;34m\u001b[0m\u001b[0m\n",
      "\u001b[0;32m<string>\u001b[0m in \u001b[0;36mconstruct\u001b[0;34m(self)\u001b[0m\n",
      "\u001b[0;32m/usr/local/Caskroom/mambaforge/base/envs/ds/lib/python3.8/site-packages/manim/mobject/svg/tex_mobject.py\u001b[0m in \u001b[0;36m__init__\u001b[0;34m(self, arg_separator, substrings_to_isolate, tex_to_color_map, tex_environment, *tex_strings, **kwargs)\u001b[0m\n\u001b[1;32m    302\u001b[0m                     ),\n\u001b[1;32m    303\u001b[0m                 )\n\u001b[0;32m--> 304\u001b[0;31m             \u001b[0;32mraise\u001b[0m \u001b[0mcompilation_error\u001b[0m\u001b[0;34m\u001b[0m\u001b[0;34m\u001b[0m\u001b[0m\n\u001b[0m\u001b[1;32m    305\u001b[0m         \u001b[0mself\u001b[0m\u001b[0;34m.\u001b[0m\u001b[0mset_color_by_tex_to_color_map\u001b[0m\u001b[0;34m(\u001b[0m\u001b[0mself\u001b[0m\u001b[0;34m.\u001b[0m\u001b[0mtex_to_color_map\u001b[0m\u001b[0;34m)\u001b[0m\u001b[0;34m\u001b[0m\u001b[0;34m\u001b[0m\u001b[0m\n\u001b[1;32m    306\u001b[0m \u001b[0;34m\u001b[0m\u001b[0m\n",
      "\u001b[0;32m/usr/local/Caskroom/mambaforge/base/envs/ds/lib/python3.8/site-packages/manim/mobject/svg/tex_mobject.py\u001b[0m in \u001b[0;36m__init__\u001b[0;34m(self, arg_separator, substrings_to_isolate, tex_to_color_map, tex_environment, *tex_strings, **kwargs)\u001b[0m\n\u001b[1;32m    287\u001b[0m                 \u001b[0;34m**\u001b[0m\u001b[0mkwargs\u001b[0m\u001b[0;34m,\u001b[0m\u001b[0;34m\u001b[0m\u001b[0;34m\u001b[0m\u001b[0m\n\u001b[1;32m    288\u001b[0m             )\n\u001b[0;32m--> 289\u001b[0;31m             \u001b[0mself\u001b[0m\u001b[0;34m.\u001b[0m\u001b[0mbreak_up_by_substrings\u001b[0m\u001b[0;34m(\u001b[0m\u001b[0;34m)\u001b[0m\u001b[0;34m\u001b[0m\u001b[0;34m\u001b[0m\u001b[0m\n\u001b[0m\u001b[1;32m    290\u001b[0m         \u001b[0;32mexcept\u001b[0m \u001b[0mValueError\u001b[0m \u001b[0;32mas\u001b[0m \u001b[0mcompilation_error\u001b[0m\u001b[0;34m:\u001b[0m\u001b[0;34m\u001b[0m\u001b[0;34m\u001b[0m\u001b[0m\n\u001b[1;32m    291\u001b[0m             \u001b[0;32mif\u001b[0m \u001b[0mself\u001b[0m\u001b[0;34m.\u001b[0m\u001b[0mbrace_notation_split_occurred\u001b[0m\u001b[0;34m:\u001b[0m\u001b[0;34m\u001b[0m\u001b[0;34m\u001b[0m\u001b[0m\n",
      "\u001b[0;32m/usr/local/Caskroom/mambaforge/base/envs/ds/lib/python3.8/site-packages/manim/mobject/svg/tex_mobject.py\u001b[0m in \u001b[0;36mbreak_up_by_substrings\u001b[0;34m(self)\u001b[0m\n\u001b[1;32m    346\u001b[0m         \u001b[0mcurr_index\u001b[0m \u001b[0;34m=\u001b[0m \u001b[0;36m0\u001b[0m\u001b[0;34m\u001b[0m\u001b[0;34m\u001b[0m\u001b[0m\n\u001b[1;32m    347\u001b[0m         \u001b[0;32mfor\u001b[0m \u001b[0mtex_string\u001b[0m \u001b[0;32min\u001b[0m \u001b[0mself\u001b[0m\u001b[0;34m.\u001b[0m\u001b[0mtex_strings\u001b[0m\u001b[0;34m:\u001b[0m\u001b[0;34m\u001b[0m\u001b[0;34m\u001b[0m\u001b[0m\n\u001b[0;32m--> 348\u001b[0;31m             sub_tex_mob = SingleStringMathTex(\n\u001b[0m\u001b[1;32m    349\u001b[0m                 \u001b[0mtex_string\u001b[0m\u001b[0;34m,\u001b[0m\u001b[0;34m\u001b[0m\u001b[0;34m\u001b[0m\u001b[0m\n\u001b[1;32m    350\u001b[0m                 \u001b[0mtex_environment\u001b[0m\u001b[0;34m=\u001b[0m\u001b[0mself\u001b[0m\u001b[0;34m.\u001b[0m\u001b[0mtex_environment\u001b[0m\u001b[0;34m,\u001b[0m\u001b[0;34m\u001b[0m\u001b[0;34m\u001b[0m\u001b[0m\n",
      "\u001b[0;32m/usr/local/Caskroom/mambaforge/base/envs/ds/lib/python3.8/site-packages/manim/mobject/svg/tex_mobject.py\u001b[0m in \u001b[0;36m__init__\u001b[0;34m(self, tex_string, stroke_width, fill_opacity, background_stroke_width, background_stroke_color, should_center, height, organize_left_to_right, tex_environment, tex_template, font_size, color, **kwargs)\u001b[0m\n\u001b[1;32m     88\u001b[0m         \u001b[0;32massert\u001b[0m \u001b[0misinstance\u001b[0m\u001b[0;34m(\u001b[0m\u001b[0mtex_string\u001b[0m\u001b[0;34m,\u001b[0m \u001b[0mstr\u001b[0m\u001b[0;34m)\u001b[0m\u001b[0;34m\u001b[0m\u001b[0;34m\u001b[0m\u001b[0m\n\u001b[1;32m     89\u001b[0m         \u001b[0mself\u001b[0m\u001b[0;34m.\u001b[0m\u001b[0mtex_string\u001b[0m \u001b[0;34m=\u001b[0m \u001b[0mtex_string\u001b[0m\u001b[0;34m\u001b[0m\u001b[0;34m\u001b[0m\u001b[0m\n\u001b[0;32m---> 90\u001b[0;31m         file_name = tex_to_svg_file(\n\u001b[0m\u001b[1;32m     91\u001b[0m             \u001b[0mself\u001b[0m\u001b[0;34m.\u001b[0m\u001b[0mget_modified_expression\u001b[0m\u001b[0;34m(\u001b[0m\u001b[0mtex_string\u001b[0m\u001b[0;34m)\u001b[0m\u001b[0;34m,\u001b[0m\u001b[0;34m\u001b[0m\u001b[0;34m\u001b[0m\u001b[0m\n\u001b[1;32m     92\u001b[0m             \u001b[0menvironment\u001b[0m\u001b[0;34m=\u001b[0m\u001b[0mself\u001b[0m\u001b[0;34m.\u001b[0m\u001b[0mtex_environment\u001b[0m\u001b[0;34m,\u001b[0m\u001b[0;34m\u001b[0m\u001b[0;34m\u001b[0m\u001b[0m\n",
      "\u001b[0;32m/usr/local/Caskroom/mambaforge/base/envs/ds/lib/python3.8/site-packages/manim/utils/tex_file_writing.py\u001b[0m in \u001b[0;36mtex_to_svg_file\u001b[0;34m(expression, environment, tex_template)\u001b[0m\n\u001b[1;32m     44\u001b[0m         \u001b[0mtex_template\u001b[0m \u001b[0;34m=\u001b[0m \u001b[0mconfig\u001b[0m\u001b[0;34m[\u001b[0m\u001b[0;34m\"tex_template\"\u001b[0m\u001b[0;34m]\u001b[0m\u001b[0;34m\u001b[0m\u001b[0;34m\u001b[0m\u001b[0m\n\u001b[1;32m     45\u001b[0m     \u001b[0mtex_file\u001b[0m \u001b[0;34m=\u001b[0m \u001b[0mgenerate_tex_file\u001b[0m\u001b[0;34m(\u001b[0m\u001b[0mexpression\u001b[0m\u001b[0;34m,\u001b[0m \u001b[0menvironment\u001b[0m\u001b[0;34m,\u001b[0m \u001b[0mtex_template\u001b[0m\u001b[0;34m)\u001b[0m\u001b[0;34m\u001b[0m\u001b[0;34m\u001b[0m\u001b[0m\n\u001b[0;32m---> 46\u001b[0;31m     dvi_file = compile_tex(\n\u001b[0m\u001b[1;32m     47\u001b[0m         \u001b[0mtex_file\u001b[0m\u001b[0;34m,\u001b[0m\u001b[0;34m\u001b[0m\u001b[0;34m\u001b[0m\u001b[0m\n\u001b[1;32m     48\u001b[0m         \u001b[0mtex_template\u001b[0m\u001b[0;34m.\u001b[0m\u001b[0mtex_compiler\u001b[0m\u001b[0;34m,\u001b[0m\u001b[0;34m\u001b[0m\u001b[0;34m\u001b[0m\u001b[0m\n",
      "\u001b[0;32m/usr/local/Caskroom/mambaforge/base/envs/ds/lib/python3.8/site-packages/manim/utils/tex_file_writing.py\u001b[0m in \u001b[0;36mcompile_tex\u001b[0;34m(tex_file, tex_compiler, output_format)\u001b[0m\n\u001b[1;32m    237\u001b[0m                                     \u001b[0mlogger\u001b[0m\u001b[0;34m.\u001b[0m\u001b[0minfo\u001b[0m\u001b[0;34m(\u001b[0m\u001b[0minsight\u001b[0m\u001b[0;34m)\u001b[0m\u001b[0;34m\u001b[0m\u001b[0;34m\u001b[0m\u001b[0m\n\u001b[1;32m    238\u001b[0m \u001b[0;34m\u001b[0m\u001b[0m\n\u001b[0;32m--> 239\u001b[0;31m             raise ValueError(\n\u001b[0m\u001b[1;32m    240\u001b[0m                 \u001b[0;34mf\"{tex_compiler} error converting to\"\u001b[0m\u001b[0;34m\u001b[0m\u001b[0;34m\u001b[0m\u001b[0m\n\u001b[1;32m    241\u001b[0m                 \u001b[0;34mf\" {output_format[1:]}. See log output above or\"\u001b[0m\u001b[0;34m\u001b[0m\u001b[0;34m\u001b[0m\u001b[0m\n",
      "\u001b[0;31mValueError\u001b[0m: latex error converting to dvi. See log output above or the log file: media/Tex/13eca789d7cfd24e.log"
     ]
    }
   ],
   "source": [
    "%%manim -v WARNING -ql TransformEquation\n",
    "\n",
    "class TransformEquation(Scene):\n",
    "    def construct(self):\n",
    "        eq1 = MathTex(\"42 {{ a^2 }} + {{ b^2 }} = {{ c^2 }}\")\n",
    "        eq2 = MathTex(\"42 {{ a^2 }} = {{ c^2 }} - {{ b^2 }}\")\n",
    "        eq3 = MathTex(r\"a^2 = \\frac{c^2 - b^2}{42}\")\n",
    "\n",
    "        without_sigmoid = MathTex(matrix(\"\\\\sigma( {{ x^{(row)}_{col} }} )\", \"N\", \"n_x\", True))\n",
    "        with_sigmoid = MathTex(matrix(\" {{ x^{(row)}_{col} }} \", \"N\", \"n_x\", True))\n",
    "\n",
    "        self.add(without_sigmoid)\n",
    "        self.wait()\n",
    "        self.play(TransformMatchingTex(without_sigmoid, with_sigmoid))\n",
    "        self.wait()\n",
    "        # self.play(TransformMatchingShapes(eq2, eq3))\n",
    "        # self.wait()"
   ]
  },
  {
   "cell_type": "code",
   "execution_count": 5,
   "metadata": {},
   "outputs": [
    {
     "name": "stdout",
     "output_type": "stream",
     "text": [
      "\n",
      "\\begin{bmatrix}\n",
      "    x^{(i)}_{1} \\\\\n",
      "    x^{(i)}_{2} \\\\\n",
      "    \\vdots \\\\ \n",
      "    x^{(i)}_{n_x} \\\\\n",
      "\\end{bmatrix}\n"
     ]
    }
   ],
   "source": [
    "print(column_vector(\"x^{(i)}_{row}\", \"n_x\", True))"
   ]
  },
  {
   "cell_type": "code",
   "execution_count": 9,
   "metadata": {},
   "outputs": [
    {
     "name": "stdout",
     "output_type": "stream",
     "text": [
      "\n",
      "\\begin{bmatrix}\n",
      "    x^{(i)}_{1} &\n",
      "    x^{(i)}_{2} &\n",
      "    \\vdots & \n",
      "    x^{(i)}_{n_x} &\n",
      "\\end{bmatrix}\n"
     ]
    }
   ],
   "source": [
    "print(row_vector(\"x^{(i)}_{col}\", \"n_x\", True))"
   ]
  },
  {
   "cell_type": "code",
   "execution_count": 13,
   "metadata": {},
   "outputs": [
    {
     "name": "stdout",
     "output_type": "stream",
     "text": [
      "\n",
      "\\begin{bmatrix}\n",
      "    {{ x^{(1)}_{1} }}  & {{ x^{(1)}_{2} }}  & \\cdots &  {{ x^{(1)}_{n_x} }}  \\\\\n",
      "    {{ x^{(2)}_{1} }}  & {{ x^{(2)}_{2} }}  & \\cdots &  {{ x^{(2)}_{n_x} }}  \\\\\n",
      "    \\vdots & \\vdots & \\ddots & \\vdots  \\\\ \n",
      "    {{ x^{(N)}_{1} }}  & {{ x^{(N)}_{2} }}  & \\cdots &  {{ x^{(N)}_{n_x} }} \n",
      "\\end{bmatrix}\n",
      "\n",
      "\\begin{bmatrix}\n",
      "    \\sigma( {{ x^{(1)}_{1} }} ) & \\sigma( {{ x^{(1)}_{2} }} ) & \\cdots &  \\sigma( {{ x^{(1)}_{n_x} }} ) \\\\\n",
      "    \\sigma( {{ x^{(2)}_{1} }} ) & \\sigma( {{ x^{(2)}_{2} }} ) & \\cdots &  \\sigma( {{ x^{(2)}_{n_x} }} ) \\\\\n",
      "    \\vdots & \\vdots & \\ddots & \\vdots  \\\\ \n",
      "    \\sigma( {{ x^{(N)}_{1} }} ) & \\sigma( {{ x^{(N)}_{2} }} ) & \\cdots &  \\sigma( {{ x^{(N)}_{n_x} }} )\n",
      "\\end{bmatrix}\n"
     ]
    }
   ],
   "source": [
    "print(matrix(\"{{ x^{(row)}_{col} }} \", \"N\", \"n_x\", True))\n",
    "print(matrix(\"\\\\sigma( {{ x^{(row)}_{col} }} )\", \"N\", \"n_x\", True))"
   ]
  },
  {
   "cell_type": "code",
   "execution_count": null,
   "metadata": {},
   "outputs": [],
   "source": []
  }
 ],
 "metadata": {
  "interpreter": {
   "hash": "3017cd4797bf12a2c81ef5ba3b65ed0d92f944fa0709225dc40687ba16375871"
  },
  "kernelspec": {
   "display_name": "Python 3.8.10 64-bit ('ds': conda)",
   "name": "python3"
  },
  "language_info": {
   "codemirror_mode": {
    "name": "ipython",
    "version": 3
   },
   "file_extension": ".py",
   "mimetype": "text/x-python",
   "name": "python",
   "nbconvert_exporter": "python",
   "pygments_lexer": "ipython3",
   "version": "3.8.10"
  },
  "orig_nbformat": 4
 },
 "nbformat": 4,
 "nbformat_minor": 2
}

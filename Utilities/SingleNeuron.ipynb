{
 "cells": [
  {
   "cell_type": "code",
   "execution_count": 39,
   "id": "df3c56a2",
   "metadata": {},
   "outputs": [],
   "source": [
    "from torch.utils.data import DataLoader\n",
    "\n",
    "from torchvision.datasets import MNIST\n",
    "from torchvision.transforms import Compose, Normalize, ToTensor"
   ]
  },
  {
   "cell_type": "code",
   "execution_count": 61,
   "id": "242a60eb",
   "metadata": {},
   "outputs": [],
   "source": [
    "data_dir = \"../Data\"\n",
    "\n",
    "# I used torch.std_mean to find the values given to Normalize\n",
    "mnist_xforms = Compose([ToTensor(), Normalize((0.1307,), (0.3081,))])\n",
    "\n",
    "# Load data files\n",
    "train_data = MNIST(root=data_dir, train=True, download=True, transform=mnist_xforms)\n",
    "valid_data = MNIST(root=data_dir, train=False, download=True, transform=mnist_xforms)"
   ]
  },
  {
   "cell_type": "code",
   "execution_count": 67,
   "id": "1c89801d",
   "metadata": {},
   "outputs": [],
   "source": [
    "# Data loaders provide an easy interface for interactive with data\n",
    "train_loader = DataLoader(train_data, batch_size=len(train_data))\n",
    "valid_loader = DataLoader(valid_data, batch_size=len(valid_data))"
   ]
  },
  {
   "cell_type": "code",
   "execution_count": 69,
   "id": "1ca07b21",
   "metadata": {},
   "outputs": [],
   "source": [
    "# This odd bit of code forces the train loader to give us all inputs and targets\n",
    "X_train, y_train = next(iter(train_loader))\n",
    "X_valid, y_valid = next(iter(valid_loader))"
   ]
  },
  {
   "cell_type": "code",
   "execution_count": 71,
   "id": "5048f600",
   "metadata": {},
   "outputs": [
    {
     "name": "stdout",
     "output_type": "stream",
     "text": [
      "Training input shape    : torch.Size([60000, 1, 28, 28])\n",
      "Training target shape   : torch.Size([60000])\n",
      "Validation input shape  : torch.Size([10000, 1, 28, 28])\n",
      "Validation target shape : torch.Size([10000])\n"
     ]
    }
   ],
   "source": [
    "print(\"Training input shape    :\", X_train.shape)\n",
    "print(\"Training target shape   :\", y_train.shape)\n",
    "print(\"Validation input shape  :\", X_valid.shape)\n",
    "print(\"Validation target shape :\", y_valid.shape)"
   ]
  },
  {
   "cell_type": "code",
   "execution_count": 2,
   "id": "754de4bc",
   "metadata": {},
   "outputs": [
    {
     "data": {
      "text/plain": [
       "torch.Size([784])"
      ]
     },
     "execution_count": 2,
     "metadata": {},
     "output_type": "execute_result"
    }
   ],
   "source": [
    "import torch\n",
    "a = torch.randn(100)\n",
    "b = torch.randn(100, 784)\n",
    "c = a @ b\n",
    "c.shape"
   ]
  },
  {
   "cell_type": "code",
   "execution_count": 4,
   "id": "ddf9627c",
   "metadata": {},
   "outputs": [
    {
     "data": {
      "text/plain": [
       "tensor([[ 0.6586],\n",
       "        [ 0.5106],\n",
       "        [-0.5494],\n",
       "        [-0.2956],\n",
       "        [-0.5093]])"
      ]
     },
     "execution_count": 4,
     "metadata": {},
     "output_type": "execute_result"
    }
   ],
   "source": [
    "a = torch.randn(5, 1)\n",
    "a"
   ]
  },
  {
   "cell_type": "code",
   "execution_count": 8,
   "id": "bf8582d8",
   "metadata": {},
   "outputs": [
    {
     "data": {
      "text/plain": [
       "tensor([[1., 1., 1., 1., 1.]])"
      ]
     },
     "execution_count": 8,
     "metadata": {},
     "output_type": "execute_result"
    }
   ],
   "source": [
    "b = torch.ones(1, 5)\n",
    "b"
   ]
  },
  {
   "cell_type": "code",
   "execution_count": 10,
   "id": "77bb89e2",
   "metadata": {},
   "outputs": [
    {
     "data": {
      "text/plain": [
       "tensor([[ 0.6586,  0.5106, -0.5494, -0.2956, -0.5093],\n",
       "        [ 0.6586,  0.5106, -0.5494, -0.2956, -0.5093],\n",
       "        [ 0.6586,  0.5106, -0.5494, -0.2956, -0.5093],\n",
       "        [ 0.6586,  0.5106, -0.5494, -0.2956, -0.5093],\n",
       "        [ 0.6586,  0.5106, -0.5494, -0.2956, -0.5093]])"
      ]
     },
     "execution_count": 10,
     "metadata": {},
     "output_type": "execute_result"
    }
   ],
   "source": [
    "b.T @ a.T"
   ]
  },
  {
   "cell_type": "code",
   "execution_count": 13,
   "id": "d7b3bf17",
   "metadata": {},
   "outputs": [
    {
     "name": "stdout",
     "output_type": "stream",
     "text": [
      "tensor([[-0.3605,  0.0425,  0.9150, -0.3210],\n",
      "        [-0.3605,  0.0425,  0.9150, -0.3210],\n",
      "        [-0.3605,  0.0425,  0.9150, -0.3210],\n",
      "        [-0.3605,  0.0425,  0.9150, -0.3210],\n",
      "        [-0.3605,  0.0425,  0.9150, -0.3210],\n",
      "        [-0.3605,  0.0425,  0.9150, -0.3210],\n",
      "        [-0.3605,  0.0425,  0.9150, -0.3210],\n",
      "        [-0.3605,  0.0425,  0.9150, -0.3210],\n",
      "        [-0.3605,  0.0425,  0.9150, -0.3210],\n",
      "        [-0.3605,  0.0425,  0.9150, -0.3210]])\n"
     ]
    }
   ],
   "source": [
    "N, nl = 10, 4\n",
    "b = torch.randn(nl, 1)\n",
    "ONE = torch.ones(N, 1)\n",
    "print(ONE @ b.T)"
   ]
  },
  {
   "cell_type": "code",
   "execution_count": null,
   "id": "da85a505",
   "metadata": {},
   "outputs": [],
   "source": []
  }
 ],
 "metadata": {
  "jupytext": {
   "formats": "ipynb,py:percent"
  },
  "kernelspec": {
   "display_name": "Python 3 (ipykernel)",
   "language": "python",
   "name": "python3"
  },
  "language_info": {
   "codemirror_mode": {
    "name": "ipython",
    "version": 3
   },
   "file_extension": ".py",
   "mimetype": "text/x-python",
   "name": "python",
   "nbconvert_exporter": "python",
   "pygments_lexer": "ipython3",
   "version": "3.8.10"
  }
 },
 "nbformat": 4,
 "nbformat_minor": 5
}

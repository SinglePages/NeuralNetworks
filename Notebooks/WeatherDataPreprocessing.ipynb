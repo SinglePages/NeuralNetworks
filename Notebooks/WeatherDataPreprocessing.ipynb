{
 "cells": [
  {
   "cell_type": "code",
   "execution_count": 1,
   "metadata": {
    "ExecuteTime": {
     "end_time": "2021-05-12T22:53:32.528866Z",
     "start_time": "2021-05-12T22:53:31.115526Z"
    }
   },
   "outputs": [],
   "source": [
    "# https://pythex.org/\n",
    "\n",
    "# UTC vs LST (good discussion topic)\n",
    "# Look at learned parameters\n",
    "# Plot on map\n",
    "\n",
    "import matplotlib.pyplot as plt\n",
    "import pandas as pd\n",
    "import seaborn as sns\n",
    "\n",
    "from datetime import date\n",
    "from pathlib import Path\n",
    "from regex import search"
   ]
  },
  {
   "cell_type": "code",
   "execution_count": 2,
   "metadata": {
    "ExecuteTime": {
     "end_time": "2021-05-12T22:53:32.777583Z",
     "start_time": "2021-05-12T22:53:32.530679Z"
    }
   },
   "outputs": [
    {
     "name": "stdout",
     "output_type": "stream",
     "text": [
      "\u001b[1;34mweather\u001b[0m\r\n"
     ]
    }
   ],
   "source": [
    "!ls ../Data"
   ]
  },
  {
   "cell_type": "code",
   "execution_count": 3,
   "metadata": {
    "ExecuteTime": {
     "end_time": "2021-05-12T22:53:32.971854Z",
     "start_time": "2021-05-12T22:53:32.781006Z"
    }
   },
   "outputs": [
    {
     "name": "stdout",
     "output_type": "stream",
     "text": [
      "\u001b[1;34m2011\u001b[0m  \u001b[1;34m2013\u001b[0m  \u001b[1;34m2015\u001b[0m  \u001b[1;34m2017\u001b[0m  \u001b[1;34m2019\u001b[0m  \u001b[31mElevation.bz2\u001b[0m  \u001b[1;4;33mREADME.txt\u001b[0m\r\n",
      "\u001b[1;34m2012\u001b[0m  \u001b[1;34m2014\u001b[0m  \u001b[1;34m2016\u001b[0m  \u001b[1;34m2018\u001b[0m  \u001b[1;34m2020\u001b[0m  HEADERS.txt    stations.tsv\r\n"
     ]
    }
   ],
   "source": [
    "!ls ../Data/weather/"
   ]
  },
  {
   "cell_type": "code",
   "execution_count": 4,
   "metadata": {
    "ExecuteTime": {
     "end_time": "2021-05-12T22:53:32.978097Z",
     "start_time": "2021-05-12T22:53:32.975263Z"
    }
   },
   "outputs": [],
   "source": [
    "data_dir = Path(\"../Data/weather/\")"
   ]
  },
  {
   "cell_type": "code",
   "execution_count": 5,
   "metadata": {
    "ExecuteTime": {
     "end_time": "2021-05-12T22:53:32.985245Z",
     "start_time": "2021-05-12T22:53:32.980007Z"
    }
   },
   "outputs": [
    {
     "name": "stdout",
     "output_type": "stream",
     "text": [
      " 0 : WBANNO\n",
      " 1 : UTC_DATE\n",
      " 2 : UTC_TIME\n",
      " 3 : LST_DATE\n",
      " 4 : LST_TIME\n",
      " 5 : CRX_VN\n",
      " 6 : LONGITUDE\n",
      " 7 : LATITUDE\n",
      " 8 : T_CALC\n",
      " 9 : T_HR_AVG\n",
      "10 : T_MAX\n",
      "11 : T_MIN\n",
      "12 : P_CALC\n",
      "13 : SOLARAD\n",
      "14 : SOLARAD_FLAG\n",
      "15 : SOLARAD_MAX\n",
      "16 : SOLARAD_MAX_FLAG\n",
      "17 : SOLARAD_MIN\n",
      "18 : SOLARAD_MIN_FLAG\n",
      "19 : SUR_TEMP_TYPE\n",
      "20 : SUR_TEMP\n",
      "21 : SUR_TEMP_FLAG\n",
      "22 : SUR_TEMP_MAX\n",
      "23 : SUR_TEMP_MAX_FLAG\n",
      "24 : SUR_TEMP_MIN\n",
      "25 : SUR_TEMP_MIN_FLAG\n",
      "26 : RH_HR_AVG\n",
      "27 : RH_HR_AVG_FLAG\n",
      "28 : SOIL_MOISTURE_5\n",
      "29 : SOIL_MOISTURE_10\n",
      "30 : SOIL_MOISTURE_20\n",
      "31 : SOIL_MOISTURE_50\n",
      "32 : SOIL_MOISTURE_100\n",
      "33 : SOIL_TEMP_5\n",
      "34 : SOIL_TEMP_10\n",
      "35 : SOIL_TEMP_20\n",
      "36 : SOIL_TEMP_50\n",
      "37 : SOIL_TEMP_100\n"
     ]
    }
   ],
   "source": [
    "data_header_filename = data_dir / \"HEADERS.txt\"\n",
    "\n",
    "with open(data_header_filename) as data_header_file:\n",
    "    data_header = [line.split() for line in data_header_file]\n",
    "\n",
    "all_header_names = data_header[1]\n",
    "\n",
    "for i, name in enumerate(all_header_names):\n",
    "    print(f\"{i:>2} : {name}\")"
   ]
  },
  {
   "cell_type": "code",
   "execution_count": 6,
   "metadata": {
    "ExecuteTime": {
     "end_time": "2021-05-12T22:53:32.989800Z",
     "start_time": "2021-05-12T22:53:32.986946Z"
    }
   },
   "outputs": [],
   "source": [
    "# Taking a guess at which columns to keep\n",
    "cols_to_keep = [0, 1, 2, 3, 4, 6, 7, 9, 13, 20, 26]\n",
    "header_names = [h for i, h in enumerate(all_header_names) if i in cols_to_keep]"
   ]
  },
  {
   "cell_type": "code",
   "execution_count": 7,
   "metadata": {
    "ExecuteTime": {
     "end_time": "2021-05-12T22:54:10.806108Z",
     "start_time": "2021-05-12T22:53:32.991806Z"
    }
   },
   "outputs": [
    {
     "name": "stdout",
     "output_type": "stream",
     "text": [
      "Processing data in ../Data/weather/2011\n",
      "Processing data in ../Data/weather/2012\n",
      "Processing data in ../Data/weather/2013\n",
      "Processing data in ../Data/weather/2014\n",
      "Processing data in ../Data/weather/2015\n",
      "Processing data in ../Data/weather/2016\n",
      "Processing data in ../Data/weather/2017\n",
      "Processing data in ../Data/weather/2018\n",
      "Processing data in ../Data/weather/2019\n",
      "Processing data in ../Data/weather/2020\n"
     ]
    }
   ],
   "source": [
    "all_dfs = []\n",
    "\n",
    "# Missing data given as -9999.0 for 7-character fields with one decimal\n",
    "# and -99.000 for 7-charcter fields with three decimal places\n",
    "na_values = [\"-9999.0\", \"-99.000\"]\n",
    "\n",
    "# Also found -99999.0 when looking at the data\n",
    "na_values.append(\"-99999.0\")\n",
    "\n",
    "year_dirs = sorted([yd for yd in data_dir.iterdir() if yd.is_dir()])\n",
    "\n",
    "for year_dir in year_dirs:\n",
    "\n",
    "    print(\"Processing data in\", str(year_dir))\n",
    "\n",
    "    for data_filename in year_dir.glob(\"*.txt\"):\n",
    "\n",
    "        # Grab the year, state, and site information\n",
    "        if match := search(\n",
    "            \"^CRNH.*-(\\d{4})-([A-Z]+)_([A-Za-z]+).*\", data_filename.name\n",
    "        ):\n",
    "            year, state, site = match.group(1), match.group(2), match.group(3)\n",
    "        else:\n",
    "            print(\"No match for\", data_filename.name)\n",
    "\n",
    "        # Skip Alaska and Hawaii to make the problem easier\n",
    "        if state == \"AK\" or state == \"HI\":\n",
    "            continue\n",
    "\n",
    "        df = pd.read_csv(\n",
    "            data_filename,\n",
    "            names=header_names,\n",
    "            usecols=cols_to_keep,\n",
    "            delim_whitespace=True,\n",
    "            na_values=na_values,\n",
    "        )\n",
    "\n",
    "        df[\"STATE\"] = state\n",
    "        df[\"SITE\"] = site\n",
    "\n",
    "        all_dfs.append(df)"
   ]
  },
  {
   "cell_type": "code",
   "execution_count": 8,
   "metadata": {
    "ExecuteTime": {
     "end_time": "2021-05-12T22:54:10.844737Z",
     "start_time": "2021-05-12T22:54:10.809249Z"
    }
   },
   "outputs": [
    {
     "data": {
      "text/html": [
       "<div>\n",
       "<style scoped>\n",
       "    .dataframe tbody tr th:only-of-type {\n",
       "        vertical-align: middle;\n",
       "    }\n",
       "\n",
       "    .dataframe tbody tr th {\n",
       "        vertical-align: top;\n",
       "    }\n",
       "\n",
       "    .dataframe thead th {\n",
       "        text-align: right;\n",
       "    }\n",
       "</style>\n",
       "<table border=\"1\" class=\"dataframe\">\n",
       "  <thead>\n",
       "    <tr style=\"text-align: right;\">\n",
       "      <th></th>\n",
       "      <th>WBANNO</th>\n",
       "      <th>UTC_DATE</th>\n",
       "      <th>UTC_TIME</th>\n",
       "      <th>LST_DATE</th>\n",
       "      <th>LST_TIME</th>\n",
       "      <th>LONGITUDE</th>\n",
       "      <th>LATITUDE</th>\n",
       "      <th>T_HR_AVG</th>\n",
       "      <th>SOLARAD</th>\n",
       "      <th>SUR_TEMP</th>\n",
       "      <th>RH_HR_AVG</th>\n",
       "    </tr>\n",
       "  </thead>\n",
       "  <tbody>\n",
       "    <tr>\n",
       "      <th>count</th>\n",
       "      <td>8784.0</td>\n",
       "      <td>8.784000e+03</td>\n",
       "      <td>8784.000000</td>\n",
       "      <td>8.784000e+03</td>\n",
       "      <td>8784.000000</td>\n",
       "      <td>8.784000e+03</td>\n",
       "      <td>8784.00</td>\n",
       "      <td>8751.000000</td>\n",
       "      <td>8781.000000</td>\n",
       "      <td>8781.000000</td>\n",
       "      <td>8776.000000</td>\n",
       "    </tr>\n",
       "    <tr>\n",
       "      <th>mean</th>\n",
       "      <td>63856.0</td>\n",
       "      <td>2.020067e+07</td>\n",
       "      <td>1150.000000</td>\n",
       "      <td>2.020066e+07</td>\n",
       "      <td>1150.000000</td>\n",
       "      <td>-8.146000e+01</td>\n",
       "      <td>30.81</td>\n",
       "      <td>20.697200</td>\n",
       "      <td>118.685799</td>\n",
       "      <td>22.217299</td>\n",
       "      <td>79.588537</td>\n",
       "    </tr>\n",
       "    <tr>\n",
       "      <th>std</th>\n",
       "      <td>0.0</td>\n",
       "      <td>3.596328e+02</td>\n",
       "      <td>692.258061</td>\n",
       "      <td>3.995326e+02</td>\n",
       "      <td>692.258061</td>\n",
       "      <td>1.421166e-14</td>\n",
       "      <td>0.00</td>\n",
       "      <td>7.026316</td>\n",
       "      <td>171.470642</td>\n",
       "      <td>9.210573</td>\n",
       "      <td>15.321241</td>\n",
       "    </tr>\n",
       "    <tr>\n",
       "      <th>min</th>\n",
       "      <td>63856.0</td>\n",
       "      <td>2.020010e+07</td>\n",
       "      <td>0.000000</td>\n",
       "      <td>2.019123e+07</td>\n",
       "      <td>0.000000</td>\n",
       "      <td>-8.146000e+01</td>\n",
       "      <td>30.81</td>\n",
       "      <td>-3.100000</td>\n",
       "      <td>0.000000</td>\n",
       "      <td>-5.200000</td>\n",
       "      <td>22.000000</td>\n",
       "    </tr>\n",
       "    <tr>\n",
       "      <th>25%</th>\n",
       "      <td>63856.0</td>\n",
       "      <td>2.020040e+07</td>\n",
       "      <td>575.000000</td>\n",
       "      <td>2.020040e+07</td>\n",
       "      <td>575.000000</td>\n",
       "      <td>-8.146000e+01</td>\n",
       "      <td>30.81</td>\n",
       "      <td>16.700000</td>\n",
       "      <td>0.000000</td>\n",
       "      <td>16.700000</td>\n",
       "      <td>71.000000</td>\n",
       "    </tr>\n",
       "    <tr>\n",
       "      <th>50%</th>\n",
       "      <td>63856.0</td>\n",
       "      <td>2.020070e+07</td>\n",
       "      <td>1150.000000</td>\n",
       "      <td>2.020070e+07</td>\n",
       "      <td>1150.000000</td>\n",
       "      <td>-8.146000e+01</td>\n",
       "      <td>30.81</td>\n",
       "      <td>22.300000</td>\n",
       "      <td>4.000000</td>\n",
       "      <td>22.900000</td>\n",
       "      <td>83.000000</td>\n",
       "    </tr>\n",
       "    <tr>\n",
       "      <th>75%</th>\n",
       "      <td>63856.0</td>\n",
       "      <td>2.020100e+07</td>\n",
       "      <td>1725.000000</td>\n",
       "      <td>2.020100e+07</td>\n",
       "      <td>1725.000000</td>\n",
       "      <td>-8.146000e+01</td>\n",
       "      <td>30.81</td>\n",
       "      <td>25.600000</td>\n",
       "      <td>208.000000</td>\n",
       "      <td>27.600000</td>\n",
       "      <td>92.000000</td>\n",
       "    </tr>\n",
       "    <tr>\n",
       "      <th>max</th>\n",
       "      <td>63856.0</td>\n",
       "      <td>2.021010e+07</td>\n",
       "      <td>2300.000000</td>\n",
       "      <td>2.020123e+07</td>\n",
       "      <td>2300.000000</td>\n",
       "      <td>-8.146000e+01</td>\n",
       "      <td>30.81</td>\n",
       "      <td>34.900000</td>\n",
       "      <td>722.000000</td>\n",
       "      <td>46.300000</td>\n",
       "      <td>100.000000</td>\n",
       "    </tr>\n",
       "  </tbody>\n",
       "</table>\n",
       "</div>"
      ],
      "text/plain": [
       "        WBANNO      UTC_DATE     UTC_TIME      LST_DATE     LST_TIME  \\\n",
       "count   8784.0  8.784000e+03  8784.000000  8.784000e+03  8784.000000   \n",
       "mean   63856.0  2.020067e+07  1150.000000  2.020066e+07  1150.000000   \n",
       "std        0.0  3.596328e+02   692.258061  3.995326e+02   692.258061   \n",
       "min    63856.0  2.020010e+07     0.000000  2.019123e+07     0.000000   \n",
       "25%    63856.0  2.020040e+07   575.000000  2.020040e+07   575.000000   \n",
       "50%    63856.0  2.020070e+07  1150.000000  2.020070e+07  1150.000000   \n",
       "75%    63856.0  2.020100e+07  1725.000000  2.020100e+07  1725.000000   \n",
       "max    63856.0  2.021010e+07  2300.000000  2.020123e+07  2300.000000   \n",
       "\n",
       "          LONGITUDE  LATITUDE     T_HR_AVG      SOLARAD     SUR_TEMP  \\\n",
       "count  8.784000e+03   8784.00  8751.000000  8781.000000  8781.000000   \n",
       "mean  -8.146000e+01     30.81    20.697200   118.685799    22.217299   \n",
       "std    1.421166e-14      0.00     7.026316   171.470642     9.210573   \n",
       "min   -8.146000e+01     30.81    -3.100000     0.000000    -5.200000   \n",
       "25%   -8.146000e+01     30.81    16.700000     0.000000    16.700000   \n",
       "50%   -8.146000e+01     30.81    22.300000     4.000000    22.900000   \n",
       "75%   -8.146000e+01     30.81    25.600000   208.000000    27.600000   \n",
       "max   -8.146000e+01     30.81    34.900000   722.000000    46.300000   \n",
       "\n",
       "         RH_HR_AVG  \n",
       "count  8776.000000  \n",
       "mean     79.588537  \n",
       "std      15.321241  \n",
       "min      22.000000  \n",
       "25%      71.000000  \n",
       "50%      83.000000  \n",
       "75%      92.000000  \n",
       "max     100.000000  "
      ]
     },
     "execution_count": 8,
     "metadata": {},
     "output_type": "execute_result"
    }
   ],
   "source": [
    "# Examine a single file\n",
    "df.describe()"
   ]
  },
  {
   "cell_type": "code",
   "execution_count": 9,
   "metadata": {
    "ExecuteTime": {
     "end_time": "2021-05-12T22:54:10.857677Z",
     "start_time": "2021-05-12T22:54:10.847162Z"
    }
   },
   "outputs": [
    {
     "data": {
      "text/html": [
       "<div>\n",
       "<style scoped>\n",
       "    .dataframe tbody tr th:only-of-type {\n",
       "        vertical-align: middle;\n",
       "    }\n",
       "\n",
       "    .dataframe tbody tr th {\n",
       "        vertical-align: top;\n",
       "    }\n",
       "\n",
       "    .dataframe thead th {\n",
       "        text-align: right;\n",
       "    }\n",
       "</style>\n",
       "<table border=\"1\" class=\"dataframe\">\n",
       "  <thead>\n",
       "    <tr style=\"text-align: right;\">\n",
       "      <th></th>\n",
       "      <th>WBANNO</th>\n",
       "      <th>UTC_DATE</th>\n",
       "      <th>UTC_TIME</th>\n",
       "      <th>LST_DATE</th>\n",
       "      <th>LST_TIME</th>\n",
       "      <th>LONGITUDE</th>\n",
       "      <th>LATITUDE</th>\n",
       "      <th>T_HR_AVG</th>\n",
       "      <th>SOLARAD</th>\n",
       "      <th>SUR_TEMP</th>\n",
       "      <th>RH_HR_AVG</th>\n",
       "      <th>STATE</th>\n",
       "      <th>SITE</th>\n",
       "    </tr>\n",
       "  </thead>\n",
       "  <tbody>\n",
       "    <tr>\n",
       "      <th>0</th>\n",
       "      <td>63856</td>\n",
       "      <td>20200101</td>\n",
       "      <td>100</td>\n",
       "      <td>20191231</td>\n",
       "      <td>2000</td>\n",
       "      <td>-81.46</td>\n",
       "      <td>30.81</td>\n",
       "      <td>8.8</td>\n",
       "      <td>0.0</td>\n",
       "      <td>6.0</td>\n",
       "      <td>78.0</td>\n",
       "      <td>GA</td>\n",
       "      <td>Brunswick</td>\n",
       "    </tr>\n",
       "    <tr>\n",
       "      <th>1</th>\n",
       "      <td>63856</td>\n",
       "      <td>20200101</td>\n",
       "      <td>200</td>\n",
       "      <td>20191231</td>\n",
       "      <td>2100</td>\n",
       "      <td>-81.46</td>\n",
       "      <td>30.81</td>\n",
       "      <td>8.5</td>\n",
       "      <td>0.0</td>\n",
       "      <td>5.1</td>\n",
       "      <td>83.0</td>\n",
       "      <td>GA</td>\n",
       "      <td>Brunswick</td>\n",
       "    </tr>\n",
       "    <tr>\n",
       "      <th>2</th>\n",
       "      <td>63856</td>\n",
       "      <td>20200101</td>\n",
       "      <td>300</td>\n",
       "      <td>20191231</td>\n",
       "      <td>2200</td>\n",
       "      <td>-81.46</td>\n",
       "      <td>30.81</td>\n",
       "      <td>10.3</td>\n",
       "      <td>0.0</td>\n",
       "      <td>6.6</td>\n",
       "      <td>66.0</td>\n",
       "      <td>GA</td>\n",
       "      <td>Brunswick</td>\n",
       "    </tr>\n",
       "    <tr>\n",
       "      <th>3</th>\n",
       "      <td>63856</td>\n",
       "      <td>20200101</td>\n",
       "      <td>400</td>\n",
       "      <td>20191231</td>\n",
       "      <td>2300</td>\n",
       "      <td>-81.46</td>\n",
       "      <td>30.81</td>\n",
       "      <td>9.9</td>\n",
       "      <td>0.0</td>\n",
       "      <td>6.7</td>\n",
       "      <td>67.0</td>\n",
       "      <td>GA</td>\n",
       "      <td>Brunswick</td>\n",
       "    </tr>\n",
       "    <tr>\n",
       "      <th>4</th>\n",
       "      <td>63856</td>\n",
       "      <td>20200101</td>\n",
       "      <td>500</td>\n",
       "      <td>20200101</td>\n",
       "      <td>0</td>\n",
       "      <td>-81.46</td>\n",
       "      <td>30.81</td>\n",
       "      <td>9.8</td>\n",
       "      <td>0.0</td>\n",
       "      <td>6.8</td>\n",
       "      <td>66.0</td>\n",
       "      <td>GA</td>\n",
       "      <td>Brunswick</td>\n",
       "    </tr>\n",
       "  </tbody>\n",
       "</table>\n",
       "</div>"
      ],
      "text/plain": [
       "   WBANNO  UTC_DATE  UTC_TIME  LST_DATE  LST_TIME  LONGITUDE  LATITUDE  \\\n",
       "0   63856  20200101       100  20191231      2000     -81.46     30.81   \n",
       "1   63856  20200101       200  20191231      2100     -81.46     30.81   \n",
       "2   63856  20200101       300  20191231      2200     -81.46     30.81   \n",
       "3   63856  20200101       400  20191231      2300     -81.46     30.81   \n",
       "4   63856  20200101       500  20200101         0     -81.46     30.81   \n",
       "\n",
       "   T_HR_AVG  SOLARAD  SUR_TEMP  RH_HR_AVG STATE       SITE  \n",
       "0       8.8      0.0       6.0       78.0    GA  Brunswick  \n",
       "1       8.5      0.0       5.1       83.0    GA  Brunswick  \n",
       "2      10.3      0.0       6.6       66.0    GA  Brunswick  \n",
       "3       9.9      0.0       6.7       67.0    GA  Brunswick  \n",
       "4       9.8      0.0       6.8       66.0    GA  Brunswick  "
      ]
     },
     "execution_count": 9,
     "metadata": {},
     "output_type": "execute_result"
    }
   ],
   "source": [
    "df.head()"
   ]
  },
  {
   "cell_type": "code",
   "execution_count": 10,
   "metadata": {
    "ExecuteTime": {
     "end_time": "2021-05-12T22:54:14.307751Z",
     "start_time": "2021-05-12T22:54:10.859032Z"
    }
   },
   "outputs": [
    {
     "data": {
      "text/plain": [
       "(13748470, 13)"
      ]
     },
     "execution_count": 10,
     "metadata": {},
     "output_type": "execute_result"
    }
   ],
   "source": [
    "df = pd.concat(all_dfs, ignore_index=True)\n",
    "df.shape"
   ]
  },
  {
   "cell_type": "code",
   "execution_count": 11,
   "metadata": {
    "ExecuteTime": {
     "end_time": "2021-05-12T22:54:21.337076Z",
     "start_time": "2021-05-12T22:54:14.309345Z"
    }
   },
   "outputs": [
    {
     "data": {
      "text/plain": [
       "(9966607, 13)"
      ]
     },
     "execution_count": 11,
     "metadata": {},
     "output_type": "execute_result"
    }
   ],
   "source": [
    "# Remove all rows containing invalid/incomplete data\n",
    "df = df.dropna()\n",
    "df.shape"
   ]
  },
  {
   "cell_type": "code",
   "execution_count": 12,
   "metadata": {
    "ExecuteTime": {
     "end_time": "2021-05-12T22:54:21.343374Z",
     "start_time": "2021-05-12T22:54:21.338827Z"
    }
   },
   "outputs": [
    {
     "data": {
      "text/plain": [
       "WBANNO        object\n",
       "UTC_DATE      object\n",
       "UTC_TIME      object\n",
       "LST_DATE      object\n",
       "LST_TIME      object\n",
       "LONGITUDE    float64\n",
       "LATITUDE     float64\n",
       "T_HR_AVG     float64\n",
       "SOLARAD      float64\n",
       "SUR_TEMP     float64\n",
       "RH_HR_AVG    float64\n",
       "STATE         object\n",
       "SITE          object\n",
       "dtype: object"
      ]
     },
     "execution_count": 12,
     "metadata": {},
     "output_type": "execute_result"
    }
   ],
   "source": [
    "df.dtypes"
   ]
  },
  {
   "cell_type": "code",
   "execution_count": 13,
   "metadata": {
    "ExecuteTime": {
     "end_time": "2021-05-12T22:54:59.233229Z",
     "start_time": "2021-05-12T22:54:21.344820Z"
    }
   },
   "outputs": [],
   "source": [
    "# Convert UTC_DATE and LST_DATE to day of year\n",
    "\n",
    "def convert_to_dayofyear(d):\n",
    "    year = d // 10000\n",
    "    month = d % 10000 // 100\n",
    "    day = d % 100\n",
    "    d_iso = f\"{year}-{month:>02}-{day:>02}\"\n",
    "    return date.fromisoformat(d_iso).timetuple().tm_yday\n",
    "\n",
    "df[\"UTC_DATE\"] = df[\"UTC_DATE\"].apply(convert_to_dayofyear)\n",
    "df[\"LST_DATE\"] = df[\"LST_DATE\"].apply(convert_to_dayofyear)"
   ]
  },
  {
   "cell_type": "code",
   "execution_count": 14,
   "metadata": {
    "ExecuteTime": {
     "end_time": "2021-05-12T22:54:59.239445Z",
     "start_time": "2021-05-12T22:54:59.235210Z"
    }
   },
   "outputs": [
    {
     "data": {
      "text/plain": [
       "WBANNO        object\n",
       "UTC_DATE       int64\n",
       "UTC_TIME      object\n",
       "LST_DATE       int64\n",
       "LST_TIME      object\n",
       "LONGITUDE    float64\n",
       "LATITUDE     float64\n",
       "T_HR_AVG     float64\n",
       "SOLARAD      float64\n",
       "SUR_TEMP     float64\n",
       "RH_HR_AVG    float64\n",
       "STATE         object\n",
       "SITE          object\n",
       "dtype: object"
      ]
     },
     "execution_count": 14,
     "metadata": {},
     "output_type": "execute_result"
    }
   ],
   "source": [
    "df.dtypes"
   ]
  },
  {
   "cell_type": "code",
   "execution_count": 15,
   "metadata": {
    "ExecuteTime": {
     "end_time": "2021-05-12T22:54:59.252933Z",
     "start_time": "2021-05-12T22:54:59.241120Z"
    }
   },
   "outputs": [
    {
     "data": {
      "text/html": [
       "<div>\n",
       "<style scoped>\n",
       "    .dataframe tbody tr th:only-of-type {\n",
       "        vertical-align: middle;\n",
       "    }\n",
       "\n",
       "    .dataframe tbody tr th {\n",
       "        vertical-align: top;\n",
       "    }\n",
       "\n",
       "    .dataframe thead th {\n",
       "        text-align: right;\n",
       "    }\n",
       "</style>\n",
       "<table border=\"1\" class=\"dataframe\">\n",
       "  <thead>\n",
       "    <tr style=\"text-align: right;\">\n",
       "      <th></th>\n",
       "      <th>WBANNO</th>\n",
       "      <th>UTC_DATE</th>\n",
       "      <th>UTC_TIME</th>\n",
       "      <th>LST_DATE</th>\n",
       "      <th>LST_TIME</th>\n",
       "      <th>LONGITUDE</th>\n",
       "      <th>LATITUDE</th>\n",
       "      <th>T_HR_AVG</th>\n",
       "      <th>SOLARAD</th>\n",
       "      <th>SUR_TEMP</th>\n",
       "      <th>RH_HR_AVG</th>\n",
       "      <th>STATE</th>\n",
       "      <th>SITE</th>\n",
       "    </tr>\n",
       "  </thead>\n",
       "  <tbody>\n",
       "    <tr>\n",
       "      <th>14811</th>\n",
       "      <td>53155</td>\n",
       "      <td>1</td>\n",
       "      <td>100</td>\n",
       "      <td>365</td>\n",
       "      <td>1800</td>\n",
       "      <td>-112.34</td>\n",
       "      <td>35.76</td>\n",
       "      <td>-13.2</td>\n",
       "      <td>15.0</td>\n",
       "      <td>-14.9</td>\n",
       "      <td>63.0</td>\n",
       "      <td>AZ</td>\n",
       "      <td>Williams</td>\n",
       "    </tr>\n",
       "    <tr>\n",
       "      <th>14812</th>\n",
       "      <td>53155</td>\n",
       "      <td>1</td>\n",
       "      <td>200</td>\n",
       "      <td>365</td>\n",
       "      <td>1900</td>\n",
       "      <td>-112.34</td>\n",
       "      <td>35.76</td>\n",
       "      <td>-13.5</td>\n",
       "      <td>0.0</td>\n",
       "      <td>-17.1</td>\n",
       "      <td>64.0</td>\n",
       "      <td>AZ</td>\n",
       "      <td>Williams</td>\n",
       "    </tr>\n",
       "    <tr>\n",
       "      <th>14813</th>\n",
       "      <td>53155</td>\n",
       "      <td>1</td>\n",
       "      <td>300</td>\n",
       "      <td>365</td>\n",
       "      <td>2000</td>\n",
       "      <td>-112.34</td>\n",
       "      <td>35.76</td>\n",
       "      <td>-13.5</td>\n",
       "      <td>0.0</td>\n",
       "      <td>-17.5</td>\n",
       "      <td>60.0</td>\n",
       "      <td>AZ</td>\n",
       "      <td>Williams</td>\n",
       "    </tr>\n",
       "    <tr>\n",
       "      <th>14814</th>\n",
       "      <td>53155</td>\n",
       "      <td>1</td>\n",
       "      <td>400</td>\n",
       "      <td>365</td>\n",
       "      <td>2100</td>\n",
       "      <td>-112.34</td>\n",
       "      <td>35.76</td>\n",
       "      <td>-15.9</td>\n",
       "      <td>0.0</td>\n",
       "      <td>-18.3</td>\n",
       "      <td>69.0</td>\n",
       "      <td>AZ</td>\n",
       "      <td>Williams</td>\n",
       "    </tr>\n",
       "    <tr>\n",
       "      <th>14815</th>\n",
       "      <td>53155</td>\n",
       "      <td>1</td>\n",
       "      <td>500</td>\n",
       "      <td>365</td>\n",
       "      <td>2200</td>\n",
       "      <td>-112.34</td>\n",
       "      <td>35.76</td>\n",
       "      <td>-18.7</td>\n",
       "      <td>0.0</td>\n",
       "      <td>-19.6</td>\n",
       "      <td>78.0</td>\n",
       "      <td>AZ</td>\n",
       "      <td>Williams</td>\n",
       "    </tr>\n",
       "  </tbody>\n",
       "</table>\n",
       "</div>"
      ],
      "text/plain": [
       "      WBANNO  UTC_DATE UTC_TIME  LST_DATE LST_TIME  LONGITUDE  LATITUDE  \\\n",
       "14811  53155         1      100       365     1800    -112.34     35.76   \n",
       "14812  53155         1      200       365     1900    -112.34     35.76   \n",
       "14813  53155         1      300       365     2000    -112.34     35.76   \n",
       "14814  53155         1      400       365     2100    -112.34     35.76   \n",
       "14815  53155         1      500       365     2200    -112.34     35.76   \n",
       "\n",
       "       T_HR_AVG  SOLARAD  SUR_TEMP  RH_HR_AVG STATE      SITE  \n",
       "14811     -13.2     15.0     -14.9       63.0    AZ  Williams  \n",
       "14812     -13.5      0.0     -17.1       64.0    AZ  Williams  \n",
       "14813     -13.5      0.0     -17.5       60.0    AZ  Williams  \n",
       "14814     -15.9      0.0     -18.3       69.0    AZ  Williams  \n",
       "14815     -18.7      0.0     -19.6       78.0    AZ  Williams  "
      ]
     },
     "execution_count": 15,
     "metadata": {},
     "output_type": "execute_result"
    }
   ],
   "source": [
    "df.head()"
   ]
  },
  {
   "cell_type": "code",
   "execution_count": 16,
   "metadata": {
    "ExecuteTime": {
     "end_time": "2021-05-12T22:55:00.919688Z",
     "start_time": "2021-05-12T22:54:59.254434Z"
    }
   },
   "outputs": [],
   "source": [
    "# Convert objects to floats\n",
    "\n",
    "cols_to_convert = [\n",
    "    \"UTC_DATE\",\n",
    "    \"UTC_TIME\",\n",
    "    \"LST_DATE\",\n",
    "    \"LST_TIME\",\n",
    "    \"SOLARAD\",\n",
    "]\n",
    "\n",
    "for col in cols_to_convert:\n",
    "    df[col] = pd.to_numeric(df[col], downcast='float')"
   ]
  },
  {
   "cell_type": "code",
   "execution_count": 17,
   "metadata": {
    "ExecuteTime": {
     "end_time": "2021-05-12T22:55:00.925270Z",
     "start_time": "2021-05-12T22:55:00.921234Z"
    }
   },
   "outputs": [
    {
     "data": {
      "text/plain": [
       "WBANNO        object\n",
       "UTC_DATE     float32\n",
       "UTC_TIME     float32\n",
       "LST_DATE     float32\n",
       "LST_TIME     float32\n",
       "LONGITUDE    float64\n",
       "LATITUDE     float64\n",
       "T_HR_AVG     float64\n",
       "SOLARAD      float32\n",
       "SUR_TEMP     float64\n",
       "RH_HR_AVG    float64\n",
       "STATE         object\n",
       "SITE          object\n",
       "dtype: object"
      ]
     },
     "execution_count": 17,
     "metadata": {},
     "output_type": "execute_result"
    }
   ],
   "source": [
    "df.dtypes"
   ]
  },
  {
   "cell_type": "code",
   "execution_count": 18,
   "metadata": {
    "ExecuteTime": {
     "end_time": "2021-05-12T22:55:00.939313Z",
     "start_time": "2021-05-12T22:55:00.926661Z"
    }
   },
   "outputs": [
    {
     "data": {
      "text/html": [
       "<div>\n",
       "<style scoped>\n",
       "    .dataframe tbody tr th:only-of-type {\n",
       "        vertical-align: middle;\n",
       "    }\n",
       "\n",
       "    .dataframe tbody tr th {\n",
       "        vertical-align: top;\n",
       "    }\n",
       "\n",
       "    .dataframe thead th {\n",
       "        text-align: right;\n",
       "    }\n",
       "</style>\n",
       "<table border=\"1\" class=\"dataframe\">\n",
       "  <thead>\n",
       "    <tr style=\"text-align: right;\">\n",
       "      <th></th>\n",
       "      <th>WBANNO</th>\n",
       "      <th>UTC_DATE</th>\n",
       "      <th>UTC_TIME</th>\n",
       "      <th>LST_DATE</th>\n",
       "      <th>LST_TIME</th>\n",
       "      <th>LONGITUDE</th>\n",
       "      <th>LATITUDE</th>\n",
       "      <th>T_HR_AVG</th>\n",
       "      <th>SOLARAD</th>\n",
       "      <th>SUR_TEMP</th>\n",
       "      <th>RH_HR_AVG</th>\n",
       "      <th>STATE</th>\n",
       "      <th>SITE</th>\n",
       "    </tr>\n",
       "  </thead>\n",
       "  <tbody>\n",
       "    <tr>\n",
       "      <th>14811</th>\n",
       "      <td>53155</td>\n",
       "      <td>1.0</td>\n",
       "      <td>100.0</td>\n",
       "      <td>365.0</td>\n",
       "      <td>1800.0</td>\n",
       "      <td>-112.34</td>\n",
       "      <td>35.76</td>\n",
       "      <td>-13.2</td>\n",
       "      <td>15.0</td>\n",
       "      <td>-14.9</td>\n",
       "      <td>63.0</td>\n",
       "      <td>AZ</td>\n",
       "      <td>Williams</td>\n",
       "    </tr>\n",
       "    <tr>\n",
       "      <th>14812</th>\n",
       "      <td>53155</td>\n",
       "      <td>1.0</td>\n",
       "      <td>200.0</td>\n",
       "      <td>365.0</td>\n",
       "      <td>1900.0</td>\n",
       "      <td>-112.34</td>\n",
       "      <td>35.76</td>\n",
       "      <td>-13.5</td>\n",
       "      <td>0.0</td>\n",
       "      <td>-17.1</td>\n",
       "      <td>64.0</td>\n",
       "      <td>AZ</td>\n",
       "      <td>Williams</td>\n",
       "    </tr>\n",
       "    <tr>\n",
       "      <th>14813</th>\n",
       "      <td>53155</td>\n",
       "      <td>1.0</td>\n",
       "      <td>300.0</td>\n",
       "      <td>365.0</td>\n",
       "      <td>2000.0</td>\n",
       "      <td>-112.34</td>\n",
       "      <td>35.76</td>\n",
       "      <td>-13.5</td>\n",
       "      <td>0.0</td>\n",
       "      <td>-17.5</td>\n",
       "      <td>60.0</td>\n",
       "      <td>AZ</td>\n",
       "      <td>Williams</td>\n",
       "    </tr>\n",
       "    <tr>\n",
       "      <th>14814</th>\n",
       "      <td>53155</td>\n",
       "      <td>1.0</td>\n",
       "      <td>400.0</td>\n",
       "      <td>365.0</td>\n",
       "      <td>2100.0</td>\n",
       "      <td>-112.34</td>\n",
       "      <td>35.76</td>\n",
       "      <td>-15.9</td>\n",
       "      <td>0.0</td>\n",
       "      <td>-18.3</td>\n",
       "      <td>69.0</td>\n",
       "      <td>AZ</td>\n",
       "      <td>Williams</td>\n",
       "    </tr>\n",
       "    <tr>\n",
       "      <th>14815</th>\n",
       "      <td>53155</td>\n",
       "      <td>1.0</td>\n",
       "      <td>500.0</td>\n",
       "      <td>365.0</td>\n",
       "      <td>2200.0</td>\n",
       "      <td>-112.34</td>\n",
       "      <td>35.76</td>\n",
       "      <td>-18.7</td>\n",
       "      <td>0.0</td>\n",
       "      <td>-19.6</td>\n",
       "      <td>78.0</td>\n",
       "      <td>AZ</td>\n",
       "      <td>Williams</td>\n",
       "    </tr>\n",
       "  </tbody>\n",
       "</table>\n",
       "</div>"
      ],
      "text/plain": [
       "      WBANNO  UTC_DATE  UTC_TIME  LST_DATE  LST_TIME  LONGITUDE  LATITUDE  \\\n",
       "14811  53155       1.0     100.0     365.0    1800.0    -112.34     35.76   \n",
       "14812  53155       1.0     200.0     365.0    1900.0    -112.34     35.76   \n",
       "14813  53155       1.0     300.0     365.0    2000.0    -112.34     35.76   \n",
       "14814  53155       1.0     400.0     365.0    2100.0    -112.34     35.76   \n",
       "14815  53155       1.0     500.0     365.0    2200.0    -112.34     35.76   \n",
       "\n",
       "       T_HR_AVG  SOLARAD  SUR_TEMP  RH_HR_AVG STATE      SITE  \n",
       "14811     -13.2     15.0     -14.9       63.0    AZ  Williams  \n",
       "14812     -13.5      0.0     -17.1       64.0    AZ  Williams  \n",
       "14813     -13.5      0.0     -17.5       60.0    AZ  Williams  \n",
       "14814     -15.9      0.0     -18.3       69.0    AZ  Williams  \n",
       "14815     -18.7      0.0     -19.6       78.0    AZ  Williams  "
      ]
     },
     "execution_count": 18,
     "metadata": {},
     "output_type": "execute_result"
    }
   ],
   "source": [
    "df.head()"
   ]
  },
  {
   "cell_type": "code",
   "execution_count": 19,
   "metadata": {
    "ExecuteTime": {
     "end_time": "2021-05-12T22:55:01.345022Z",
     "start_time": "2021-05-12T22:55:00.940985Z"
    }
   },
   "outputs": [
    {
     "data": {
      "text/plain": [
       "count    9.966607e+06\n",
       "mean     1.221780e+01\n",
       "std      1.164920e+01\n",
       "min     -4.370000e+01\n",
       "25%      3.900000e+00\n",
       "50%      1.310000e+01\n",
       "75%      2.110000e+01\n",
       "max      5.170000e+01\n",
       "Name: T_HR_AVG, dtype: float64"
      ]
     },
     "execution_count": 19,
     "metadata": {},
     "output_type": "execute_result"
    }
   ],
   "source": [
    "# Sanity check by looking at temperature\n",
    "df[\"T_HR_AVG\"].describe()"
   ]
  },
  {
   "cell_type": "code",
   "execution_count": 20,
   "metadata": {
    "ExecuteTime": {
     "end_time": "2021-05-12T22:55:03.958234Z",
     "start_time": "2021-05-12T22:55:01.346699Z"
    }
   },
   "outputs": [
    {
     "data": {
      "text/html": [
       "<div>\n",
       "<style scoped>\n",
       "    .dataframe tbody tr th:only-of-type {\n",
       "        vertical-align: middle;\n",
       "    }\n",
       "\n",
       "    .dataframe tbody tr th {\n",
       "        vertical-align: top;\n",
       "    }\n",
       "\n",
       "    .dataframe thead th {\n",
       "        text-align: right;\n",
       "    }\n",
       "</style>\n",
       "<table border=\"1\" class=\"dataframe\">\n",
       "  <thead>\n",
       "    <tr style=\"text-align: right;\">\n",
       "      <th></th>\n",
       "      <th>UTC_DATE</th>\n",
       "      <th>UTC_TIME</th>\n",
       "      <th>LST_DATE</th>\n",
       "      <th>LST_TIME</th>\n",
       "      <th>LONGITUDE</th>\n",
       "      <th>LATITUDE</th>\n",
       "      <th>T_HR_AVG</th>\n",
       "      <th>SOLARAD</th>\n",
       "      <th>SUR_TEMP</th>\n",
       "      <th>RH_HR_AVG</th>\n",
       "    </tr>\n",
       "  </thead>\n",
       "  <tbody>\n",
       "    <tr>\n",
       "      <th>UTC_DATE</th>\n",
       "      <td>1.000000</td>\n",
       "      <td>0.000093</td>\n",
       "      <td>0.995744</td>\n",
       "      <td>0.000091</td>\n",
       "      <td>-0.003706</td>\n",
       "      <td>0.003145</td>\n",
       "      <td>0.151955</td>\n",
       "      <td>-0.037822</td>\n",
       "      <td>0.119995</td>\n",
       "      <td>0.034059</td>\n",
       "    </tr>\n",
       "    <tr>\n",
       "      <th>UTC_TIME</th>\n",
       "      <td>0.000093</td>\n",
       "      <td>1.000000</td>\n",
       "      <td>0.000119</td>\n",
       "      <td>-0.150801</td>\n",
       "      <td>-0.000120</td>\n",
       "      <td>0.000140</td>\n",
       "      <td>0.117278</td>\n",
       "      <td>0.602748</td>\n",
       "      <td>0.263089</td>\n",
       "      <td>-0.185467</td>\n",
       "    </tr>\n",
       "    <tr>\n",
       "      <th>LST_DATE</th>\n",
       "      <td>0.995744</td>\n",
       "      <td>0.000119</td>\n",
       "      <td>1.000000</td>\n",
       "      <td>0.000059</td>\n",
       "      <td>-0.003705</td>\n",
       "      <td>0.003138</td>\n",
       "      <td>0.149096</td>\n",
       "      <td>-0.038113</td>\n",
       "      <td>0.117547</td>\n",
       "      <td>0.034810</td>\n",
       "    </tr>\n",
       "    <tr>\n",
       "      <th>LST_TIME</th>\n",
       "      <td>0.000091</td>\n",
       "      <td>-0.150801</td>\n",
       "      <td>0.000059</td>\n",
       "      <td>1.000000</td>\n",
       "      <td>0.000007</td>\n",
       "      <td>-0.000039</td>\n",
       "      <td>0.152220</td>\n",
       "      <td>0.118418</td>\n",
       "      <td>0.155003</td>\n",
       "      <td>-0.224884</td>\n",
       "    </tr>\n",
       "    <tr>\n",
       "      <th>LONGITUDE</th>\n",
       "      <td>-0.003706</td>\n",
       "      <td>-0.000120</td>\n",
       "      <td>-0.003705</td>\n",
       "      <td>0.000007</td>\n",
       "      <td>1.000000</td>\n",
       "      <td>-0.179043</td>\n",
       "      <td>0.052779</td>\n",
       "      <td>-0.034170</td>\n",
       "      <td>0.019612</td>\n",
       "      <td>0.285188</td>\n",
       "    </tr>\n",
       "    <tr>\n",
       "      <th>LATITUDE</th>\n",
       "      <td>0.003145</td>\n",
       "      <td>0.000140</td>\n",
       "      <td>0.003138</td>\n",
       "      <td>-0.000039</td>\n",
       "      <td>-0.179043</td>\n",
       "      <td>1.000000</td>\n",
       "      <td>-0.409563</td>\n",
       "      <td>-0.060005</td>\n",
       "      <td>-0.364991</td>\n",
       "      <td>0.047277</td>\n",
       "    </tr>\n",
       "    <tr>\n",
       "      <th>T_HR_AVG</th>\n",
       "      <td>0.151955</td>\n",
       "      <td>0.117278</td>\n",
       "      <td>0.149096</td>\n",
       "      <td>0.152220</td>\n",
       "      <td>0.052779</td>\n",
       "      <td>-0.409563</td>\n",
       "      <td>1.000000</td>\n",
       "      <td>0.407342</td>\n",
       "      <td>0.941398</td>\n",
       "      <td>-0.303362</td>\n",
       "    </tr>\n",
       "    <tr>\n",
       "      <th>SOLARAD</th>\n",
       "      <td>-0.037822</td>\n",
       "      <td>0.602748</td>\n",
       "      <td>-0.038113</td>\n",
       "      <td>0.118418</td>\n",
       "      <td>-0.034170</td>\n",
       "      <td>-0.060005</td>\n",
       "      <td>0.407342</td>\n",
       "      <td>1.000000</td>\n",
       "      <td>0.606989</td>\n",
       "      <td>-0.462678</td>\n",
       "    </tr>\n",
       "    <tr>\n",
       "      <th>SUR_TEMP</th>\n",
       "      <td>0.119995</td>\n",
       "      <td>0.263089</td>\n",
       "      <td>0.117547</td>\n",
       "      <td>0.155003</td>\n",
       "      <td>0.019612</td>\n",
       "      <td>-0.364991</td>\n",
       "      <td>0.941398</td>\n",
       "      <td>0.606989</td>\n",
       "      <td>1.000000</td>\n",
       "      <td>-0.351202</td>\n",
       "    </tr>\n",
       "    <tr>\n",
       "      <th>RH_HR_AVG</th>\n",
       "      <td>0.034059</td>\n",
       "      <td>-0.185467</td>\n",
       "      <td>0.034810</td>\n",
       "      <td>-0.224884</td>\n",
       "      <td>0.285188</td>\n",
       "      <td>0.047277</td>\n",
       "      <td>-0.303362</td>\n",
       "      <td>-0.462678</td>\n",
       "      <td>-0.351202</td>\n",
       "      <td>1.000000</td>\n",
       "    </tr>\n",
       "  </tbody>\n",
       "</table>\n",
       "</div>"
      ],
      "text/plain": [
       "           UTC_DATE  UTC_TIME  LST_DATE  LST_TIME  LONGITUDE  LATITUDE  \\\n",
       "UTC_DATE   1.000000  0.000093  0.995744  0.000091  -0.003706  0.003145   \n",
       "UTC_TIME   0.000093  1.000000  0.000119 -0.150801  -0.000120  0.000140   \n",
       "LST_DATE   0.995744  0.000119  1.000000  0.000059  -0.003705  0.003138   \n",
       "LST_TIME   0.000091 -0.150801  0.000059  1.000000   0.000007 -0.000039   \n",
       "LONGITUDE -0.003706 -0.000120 -0.003705  0.000007   1.000000 -0.179043   \n",
       "LATITUDE   0.003145  0.000140  0.003138 -0.000039  -0.179043  1.000000   \n",
       "T_HR_AVG   0.151955  0.117278  0.149096  0.152220   0.052779 -0.409563   \n",
       "SOLARAD   -0.037822  0.602748 -0.038113  0.118418  -0.034170 -0.060005   \n",
       "SUR_TEMP   0.119995  0.263089  0.117547  0.155003   0.019612 -0.364991   \n",
       "RH_HR_AVG  0.034059 -0.185467  0.034810 -0.224884   0.285188  0.047277   \n",
       "\n",
       "           T_HR_AVG   SOLARAD  SUR_TEMP  RH_HR_AVG  \n",
       "UTC_DATE   0.151955 -0.037822  0.119995   0.034059  \n",
       "UTC_TIME   0.117278  0.602748  0.263089  -0.185467  \n",
       "LST_DATE   0.149096 -0.038113  0.117547   0.034810  \n",
       "LST_TIME   0.152220  0.118418  0.155003  -0.224884  \n",
       "LONGITUDE  0.052779 -0.034170  0.019612   0.285188  \n",
       "LATITUDE  -0.409563 -0.060005 -0.364991   0.047277  \n",
       "T_HR_AVG   1.000000  0.407342  0.941398  -0.303362  \n",
       "SOLARAD    0.407342  1.000000  0.606989  -0.462678  \n",
       "SUR_TEMP   0.941398  0.606989  1.000000  -0.351202  \n",
       "RH_HR_AVG -0.303362 -0.462678 -0.351202   1.000000  "
      ]
     },
     "execution_count": 20,
     "metadata": {},
     "output_type": "execute_result"
    }
   ],
   "source": [
    "# Look for correlations among columns\n",
    "# - Some should be obvious like T_HR_AVG and SUR_TEMP\n",
    "\n",
    "cor = df.corr()\n",
    "cor"
   ]
  },
  {
   "cell_type": "code",
   "execution_count": 21,
   "metadata": {
    "ExecuteTime": {
     "end_time": "2021-05-12T22:55:04.747899Z",
     "start_time": "2021-05-12T22:55:03.960175Z"
    }
   },
   "outputs": [
    {
     "data": {
      "image/png": "[encoded data removed]",
      "text/plain": [
       "<Figure size 864x864 with 2 Axes>"
      ]
     },
     "metadata": {
      "needs_background": "light"
     },
     "output_type": "display_data"
    }
   ],
   "source": [
    "_, ax = plt.subplots(figsize=(12, 12))\n",
    "sns.heatmap(cor.abs(), annot=True, cmap=plt.cm.Reds, ax=ax)\n",
    "plt.yticks(rotation=0);"
   ]
  },
  {
   "cell_type": "code",
   "execution_count": 22,
   "metadata": {
    "ExecuteTime": {
     "end_time": "2021-05-12T22:55:09.145430Z",
     "start_time": "2021-05-12T22:55:04.749476Z"
    }
   },
   "outputs": [
    {
     "data": {
      "image/png": "[encoded data removed]",
      "text/plain": [
       "<Figure size 864x360 with 10 Axes>"
      ]
     },
     "metadata": {
      "needs_background": "light"
     },
     "output_type": "display_data"
    }
   ],
   "source": [
    "# Check for outliers\n",
    "\n",
    "selection = [\n",
    "    \"UTC_DATE\",\n",
    "    \"UTC_TIME\",\n",
    "    \"LST_DATE\",\n",
    "    \"LST_TIME\",\n",
    "    \"LONGITUDE\",\n",
    "    \"LATITUDE\",\n",
    "    \"T_HR_AVG\",\n",
    "    \"SOLARAD\",\n",
    "    \"SUR_TEMP\",\n",
    "    \"RH_HR_AVG\",\n",
    "]\n",
    "\n",
    "fig, axes = plt.subplots(2, len(selection) // 2, figsize=(12, 5))\n",
    "fig.tight_layout(h_pad=2, w_pad=4)\n",
    "\n",
    "for col, ax in zip(selection, axes.flat):\n",
    "\n",
    "    ax = sns.boxplot(y=df[col], ax=ax, width=0.3)\n",
    "    ax.set_ylim(df[col].min(), df[col].max())\n",
    "    ax.set_ylabel(col)"
   ]
  },
  {
   "cell_type": "code",
   "execution_count": 23,
   "metadata": {
    "ExecuteTime": {
     "end_time": "2021-05-12T22:55:09.181619Z",
     "start_time": "2021-05-12T22:55:09.151524Z"
    }
   },
   "outputs": [
    {
     "data": {
      "text/plain": [
       "0.0"
      ]
     },
     "execution_count": 23,
     "metadata": {},
     "output_type": "execute_result"
    }
   ],
   "source": [
    "df[\"SOLARAD\"].min() # Found missing data with min"
   ]
  },
  {
   "cell_type": "code",
   "execution_count": 24,
   "metadata": {
    "ExecuteTime": {
     "end_time": "2021-05-12T22:55:09.481967Z",
     "start_time": "2021-05-12T22:55:09.184005Z"
    }
   },
   "outputs": [
    {
     "data": {
      "text/plain": [
       "<AxesSubplot:>"
      ]
     },
     "execution_count": 24,
     "metadata": {},
     "output_type": "execute_result"
    },
    {
     "data": {
      "image/png": "[encoded data removed]",
      "text/plain": [
       "<Figure size 432x288 with 1 Axes>"
      ]
     },
     "metadata": {
      "needs_background": "light"
     },
     "output_type": "display_data"
    }
   ],
   "source": [
    "df[\"SOLARAD\"].hist() # Looks like a lot of zero values?"
   ]
  },
  {
   "cell_type": "code",
   "execution_count": 25,
   "metadata": {
    "ExecuteTime": {
     "end_time": "2021-05-12T22:56:28.467822Z",
     "start_time": "2021-05-12T22:55:09.483415Z"
    }
   },
   "outputs": [
    {
     "data": {
      "text/plain": [
       "<AxesSubplot:xlabel='LST_TIME', ylabel='T_HR_AVG'>"
      ]
     },
     "execution_count": 25,
     "metadata": {},
     "output_type": "execute_result"
    },
    {
     "data": {
      "image/png": "[encoded data removed]",
      "text/plain": [
       "<Figure size 432x288 with 1 Axes>"
      ]
     },
     "metadata": {
      "needs_background": "light"
     },
     "output_type": "display_data"
    }
   ],
   "source": [
    "sns.lineplot(data=df, x=\"LST_TIME\", y=\"T_HR_AVG\")"
   ]
  },
  {
   "cell_type": "code",
   "execution_count": 26,
   "metadata": {
    "ExecuteTime": {
     "end_time": "2021-05-12T22:57:39.251616Z",
     "start_time": "2021-05-12T22:56:28.469400Z"
    }
   },
   "outputs": [
    {
     "data": {
      "text/plain": [
       "<AxesSubplot:xlabel='LATITUDE', ylabel='T_HR_AVG'>"
      ]
     },
     "execution_count": 26,
     "metadata": {},
     "output_type": "execute_result"
    },
    {
     "data": {
      "image/png": "[encoded data removed]",
      "text/plain": [
       "<Figure size 432x288 with 1 Axes>"
      ]
     },
     "metadata": {
      "needs_background": "light"
     },
     "output_type": "display_data"
    }
   ],
   "source": [
    "sns.lineplot(data=df, x=\"LATITUDE\", y=\"T_HR_AVG\")"
   ]
  },
  {
   "cell_type": "code",
   "execution_count": 27,
   "metadata": {
    "ExecuteTime": {
     "end_time": "2021-05-12T22:58:49.100632Z",
     "start_time": "2021-05-12T22:57:39.253565Z"
    }
   },
   "outputs": [
    {
     "data": {
      "text/plain": [
       "<AxesSubplot:xlabel='LONGITUDE', ylabel='T_HR_AVG'>"
      ]
     },
     "execution_count": 27,
     "metadata": {},
     "output_type": "execute_result"
    },
    {
     "data": {
      "image/png": "[encoded data removed]",
      "text/plain": [
       "<Figure size 432x288 with 1 Axes>"
      ]
     },
     "metadata": {
      "needs_background": "light"
     },
     "output_type": "display_data"
    }
   ],
   "source": [
    "sns.lineplot(data=df, x=\"LONGITUDE\", y=\"T_HR_AVG\")"
   ]
  },
  {
   "cell_type": "code",
   "execution_count": 28,
   "metadata": {
    "ExecuteTime": {
     "end_time": "2021-05-12T22:58:49.125836Z",
     "start_time": "2021-05-12T22:58:49.103304Z"
    }
   },
   "outputs": [
    {
     "data": {
      "text/html": [
       "<div>\n",
       "<style scoped>\n",
       "    .dataframe tbody tr th:only-of-type {\n",
       "        vertical-align: middle;\n",
       "    }\n",
       "\n",
       "    .dataframe tbody tr th {\n",
       "        vertical-align: top;\n",
       "    }\n",
       "\n",
       "    .dataframe thead th {\n",
       "        text-align: right;\n",
       "    }\n",
       "</style>\n",
       "<table border=\"1\" class=\"dataframe\">\n",
       "  <thead>\n",
       "    <tr style=\"text-align: right;\">\n",
       "      <th></th>\n",
       "      <th>WBAN</th>\n",
       "      <th>LATITUDE</th>\n",
       "      <th>LONGITUDE</th>\n",
       "      <th>ELEVATION</th>\n",
       "    </tr>\n",
       "  </thead>\n",
       "  <tbody>\n",
       "    <tr>\n",
       "      <th>0</th>\n",
       "      <td>3047</td>\n",
       "      <td>31.62</td>\n",
       "      <td>-102.80</td>\n",
       "      <td>829.32</td>\n",
       "    </tr>\n",
       "    <tr>\n",
       "      <th>1</th>\n",
       "      <td>3048</td>\n",
       "      <td>34.35</td>\n",
       "      <td>-106.88</td>\n",
       "      <td>1470.51</td>\n",
       "    </tr>\n",
       "    <tr>\n",
       "      <th>2</th>\n",
       "      <td>3054</td>\n",
       "      <td>33.95</td>\n",
       "      <td>-102.77</td>\n",
       "      <td>1137.76</td>\n",
       "    </tr>\n",
       "    <tr>\n",
       "      <th>3</th>\n",
       "      <td>3055</td>\n",
       "      <td>36.59</td>\n",
       "      <td>-101.59</td>\n",
       "      <td>990.17</td>\n",
       "    </tr>\n",
       "    <tr>\n",
       "      <th>4</th>\n",
       "      <td>3060</td>\n",
       "      <td>38.54</td>\n",
       "      <td>-107.69</td>\n",
       "      <td>2560.33</td>\n",
       "    </tr>\n",
       "    <tr>\n",
       "      <th>...</th>\n",
       "      <td>...</td>\n",
       "      <td>...</td>\n",
       "      <td>...</td>\n",
       "      <td>...</td>\n",
       "    </tr>\n",
       "    <tr>\n",
       "      <th>230</th>\n",
       "      <td>96405</td>\n",
       "      <td>60.47</td>\n",
       "      <td>-145.35</td>\n",
       "      <td>23.68</td>\n",
       "    </tr>\n",
       "    <tr>\n",
       "      <th>231</th>\n",
       "      <td>96406</td>\n",
       "      <td>64.50</td>\n",
       "      <td>-154.12</td>\n",
       "      <td>-1000000</td>\n",
       "    </tr>\n",
       "    <tr>\n",
       "      <th>232</th>\n",
       "      <td>96407</td>\n",
       "      <td>66.56</td>\n",
       "      <td>-159.00</td>\n",
       "      <td>1.5</td>\n",
       "    </tr>\n",
       "    <tr>\n",
       "      <th>233</th>\n",
       "      <td>96408</td>\n",
       "      <td>63.45</td>\n",
       "      <td>-150.87</td>\n",
       "      <td>646.11</td>\n",
       "    </tr>\n",
       "    <tr>\n",
       "      <th>234</th>\n",
       "      <td>96409</td>\n",
       "      <td>68.64</td>\n",
       "      <td>-149.39</td>\n",
       "      <td>747.58</td>\n",
       "    </tr>\n",
       "  </tbody>\n",
       "</table>\n",
       "<p>235 rows × 4 columns</p>\n",
       "</div>"
      ],
      "text/plain": [
       "      WBAN  LATITUDE  LONGITUDE ELEVATION\n",
       "0     3047     31.62    -102.80    829.32\n",
       "1     3048     34.35    -106.88   1470.51\n",
       "2     3054     33.95    -102.77   1137.76\n",
       "3     3055     36.59    -101.59    990.17\n",
       "4     3060     38.54    -107.69   2560.33\n",
       "..     ...       ...        ...       ...\n",
       "230  96405     60.47    -145.35     23.68\n",
       "231  96406     64.50    -154.12  -1000000\n",
       "232  96407     66.56    -159.00       1.5\n",
       "233  96408     63.45    -150.87    646.11\n",
       "234  96409     68.64    -149.39    747.58\n",
       "\n",
       "[235 rows x 4 columns]"
      ]
     },
     "execution_count": 28,
     "metadata": {},
     "output_type": "execute_result"
    }
   ],
   "source": [
    "# Add elevation data\n",
    "df_elev = pd.read_pickle(data_dir / \"Elevation.bz2\")\n",
    "df_elev = df_elev[df_elev[\"WBAN\"] != \"UN\"]\n",
    "df_elev.dropna(inplace=True)\n",
    "df_elev[\"WBAN\"] = df_elev[\"WBAN\"].apply(int)\n",
    "df_elev"
   ]
  },
  {
   "cell_type": "code",
   "execution_count": 29,
   "metadata": {
    "ExecuteTime": {
     "end_time": "2021-05-12T22:58:49.131427Z",
     "start_time": "2021-05-12T22:58:49.128323Z"
    }
   },
   "outputs": [],
   "source": [
    "elevations = {\n",
    "    int(wban): elev for wban, elev in zip(df_elev[\"WBAN\"], df_elev[\"ELEVATION\"])\n",
    "}"
   ]
  },
  {
   "cell_type": "code",
   "execution_count": 30,
   "metadata": {
    "ExecuteTime": {
     "end_time": "2021-05-12T22:58:49.539116Z",
     "start_time": "2021-05-12T22:58:49.133890Z"
    }
   },
   "outputs": [],
   "source": [
    "# Check that all stations in df can be found in elev_stations\n",
    "for i, sid in enumerate(df[\"WBANNO\"].unique()):\n",
    "    assert sid in elevations"
   ]
  },
  {
   "cell_type": "code",
   "execution_count": 31,
   "metadata": {
    "ExecuteTime": {
     "end_time": "2021-05-12T22:58:49.543715Z",
     "start_time": "2021-05-12T22:58:49.541205Z"
    }
   },
   "outputs": [],
   "source": [
    "def get_station_elevation(row):\n",
    "    return elevations[row[\"WBANNO\"]]"
   ]
  },
  {
   "cell_type": "code",
   "execution_count": 32,
   "metadata": {
    "ExecuteTime": {
     "end_time": "2021-05-12T22:59:46.672817Z",
     "start_time": "2021-05-12T22:58:49.545524Z"
    }
   },
   "outputs": [
    {
     "data": {
      "text/html": [
       "<div>\n",
       "<style scoped>\n",
       "    .dataframe tbody tr th:only-of-type {\n",
       "        vertical-align: middle;\n",
       "    }\n",
       "\n",
       "    .dataframe tbody tr th {\n",
       "        vertical-align: top;\n",
       "    }\n",
       "\n",
       "    .dataframe thead th {\n",
       "        text-align: right;\n",
       "    }\n",
       "</style>\n",
       "<table border=\"1\" class=\"dataframe\">\n",
       "  <thead>\n",
       "    <tr style=\"text-align: right;\">\n",
       "      <th></th>\n",
       "      <th>WBANNO</th>\n",
       "      <th>UTC_DATE</th>\n",
       "      <th>UTC_TIME</th>\n",
       "      <th>LST_DATE</th>\n",
       "      <th>LST_TIME</th>\n",
       "      <th>LONGITUDE</th>\n",
       "      <th>LATITUDE</th>\n",
       "      <th>T_HR_AVG</th>\n",
       "      <th>SOLARAD</th>\n",
       "      <th>SUR_TEMP</th>\n",
       "      <th>RH_HR_AVG</th>\n",
       "      <th>STATE</th>\n",
       "      <th>SITE</th>\n",
       "      <th>ELEVATION</th>\n",
       "    </tr>\n",
       "  </thead>\n",
       "  <tbody>\n",
       "    <tr>\n",
       "      <th>14811</th>\n",
       "      <td>53155</td>\n",
       "      <td>1.0</td>\n",
       "      <td>100.0</td>\n",
       "      <td>365.0</td>\n",
       "      <td>1800.0</td>\n",
       "      <td>-112.34</td>\n",
       "      <td>35.76</td>\n",
       "      <td>-13.2</td>\n",
       "      <td>15.0</td>\n",
       "      <td>-14.9</td>\n",
       "      <td>63.0</td>\n",
       "      <td>AZ</td>\n",
       "      <td>Williams</td>\n",
       "      <td>1811.25</td>\n",
       "    </tr>\n",
       "    <tr>\n",
       "      <th>14812</th>\n",
       "      <td>53155</td>\n",
       "      <td>1.0</td>\n",
       "      <td>200.0</td>\n",
       "      <td>365.0</td>\n",
       "      <td>1900.0</td>\n",
       "      <td>-112.34</td>\n",
       "      <td>35.76</td>\n",
       "      <td>-13.5</td>\n",
       "      <td>0.0</td>\n",
       "      <td>-17.1</td>\n",
       "      <td>64.0</td>\n",
       "      <td>AZ</td>\n",
       "      <td>Williams</td>\n",
       "      <td>1811.25</td>\n",
       "    </tr>\n",
       "    <tr>\n",
       "      <th>14813</th>\n",
       "      <td>53155</td>\n",
       "      <td>1.0</td>\n",
       "      <td>300.0</td>\n",
       "      <td>365.0</td>\n",
       "      <td>2000.0</td>\n",
       "      <td>-112.34</td>\n",
       "      <td>35.76</td>\n",
       "      <td>-13.5</td>\n",
       "      <td>0.0</td>\n",
       "      <td>-17.5</td>\n",
       "      <td>60.0</td>\n",
       "      <td>AZ</td>\n",
       "      <td>Williams</td>\n",
       "      <td>1811.25</td>\n",
       "    </tr>\n",
       "    <tr>\n",
       "      <th>14814</th>\n",
       "      <td>53155</td>\n",
       "      <td>1.0</td>\n",
       "      <td>400.0</td>\n",
       "      <td>365.0</td>\n",
       "      <td>2100.0</td>\n",
       "      <td>-112.34</td>\n",
       "      <td>35.76</td>\n",
       "      <td>-15.9</td>\n",
       "      <td>0.0</td>\n",
       "      <td>-18.3</td>\n",
       "      <td>69.0</td>\n",
       "      <td>AZ</td>\n",
       "      <td>Williams</td>\n",
       "      <td>1811.25</td>\n",
       "    </tr>\n",
       "    <tr>\n",
       "      <th>14815</th>\n",
       "      <td>53155</td>\n",
       "      <td>1.0</td>\n",
       "      <td>500.0</td>\n",
       "      <td>365.0</td>\n",
       "      <td>2200.0</td>\n",
       "      <td>-112.34</td>\n",
       "      <td>35.76</td>\n",
       "      <td>-18.7</td>\n",
       "      <td>0.0</td>\n",
       "      <td>-19.6</td>\n",
       "      <td>78.0</td>\n",
       "      <td>AZ</td>\n",
       "      <td>Williams</td>\n",
       "      <td>1811.25</td>\n",
       "    </tr>\n",
       "  </tbody>\n",
       "</table>\n",
       "</div>"
      ],
      "text/plain": [
       "      WBANNO  UTC_DATE  UTC_TIME  LST_DATE  LST_TIME  LONGITUDE  LATITUDE  \\\n",
       "14811  53155       1.0     100.0     365.0    1800.0    -112.34     35.76   \n",
       "14812  53155       1.0     200.0     365.0    1900.0    -112.34     35.76   \n",
       "14813  53155       1.0     300.0     365.0    2000.0    -112.34     35.76   \n",
       "14814  53155       1.0     400.0     365.0    2100.0    -112.34     35.76   \n",
       "14815  53155       1.0     500.0     365.0    2200.0    -112.34     35.76   \n",
       "\n",
       "       T_HR_AVG  SOLARAD  SUR_TEMP  RH_HR_AVG STATE      SITE ELEVATION  \n",
       "14811     -13.2     15.0     -14.9       63.0    AZ  Williams   1811.25  \n",
       "14812     -13.5      0.0     -17.1       64.0    AZ  Williams   1811.25  \n",
       "14813     -13.5      0.0     -17.5       60.0    AZ  Williams   1811.25  \n",
       "14814     -15.9      0.0     -18.3       69.0    AZ  Williams   1811.25  \n",
       "14815     -18.7      0.0     -19.6       78.0    AZ  Williams   1811.25  "
      ]
     },
     "execution_count": 32,
     "metadata": {},
     "output_type": "execute_result"
    }
   ],
   "source": [
    "df[\"ELEVATION\"] = df.apply(get_station_elevation, axis=1)\n",
    "df.head()"
   ]
  },
  {
   "cell_type": "code",
   "execution_count": 36,
   "metadata": {
    "ExecuteTime": {
     "end_time": "2021-05-12T23:08:00.033959Z",
     "start_time": "2021-05-12T23:08:00.029739Z"
    }
   },
   "outputs": [
    {
     "data": {
      "text/plain": [
       "WBANNO        object\n",
       "UTC_DATE     float32\n",
       "UTC_TIME     float32\n",
       "LST_DATE     float32\n",
       "LST_TIME     float32\n",
       "LONGITUDE    float64\n",
       "LATITUDE     float64\n",
       "T_HR_AVG     float64\n",
       "SOLARAD      float32\n",
       "SUR_TEMP     float64\n",
       "RH_HR_AVG    float64\n",
       "STATE         object\n",
       "SITE          object\n",
       "ELEVATION     object\n",
       "dtype: object"
      ]
     },
     "execution_count": 36,
     "metadata": {},
     "output_type": "execute_result"
    }
   ],
   "source": [
    "df.dtypes"
   ]
  },
  {
   "cell_type": "code",
   "execution_count": 38,
   "metadata": {
    "ExecuteTime": {
     "end_time": "2021-05-12T23:08:42.785916Z",
     "start_time": "2021-05-12T23:08:41.665322Z"
    }
   },
   "outputs": [],
   "source": [
    "df[\"ELEVATION\"] = pd.to_numeric(df[\"ELEVATION\"], downcast='float')"
   ]
  },
  {
   "cell_type": "code",
   "execution_count": 39,
   "metadata": {
    "ExecuteTime": {
     "end_time": "2021-05-12T23:08:42.792466Z",
     "start_time": "2021-05-12T23:08:42.788185Z"
    }
   },
   "outputs": [
    {
     "data": {
      "text/plain": [
       "WBANNO        object\n",
       "UTC_DATE     float32\n",
       "UTC_TIME     float32\n",
       "LST_DATE     float32\n",
       "LST_TIME     float32\n",
       "LONGITUDE    float64\n",
       "LATITUDE     float64\n",
       "T_HR_AVG     float64\n",
       "SOLARAD      float32\n",
       "SUR_TEMP     float64\n",
       "RH_HR_AVG    float64\n",
       "STATE         object\n",
       "SITE          object\n",
       "ELEVATION    float32\n",
       "dtype: object"
      ]
     },
     "execution_count": 39,
     "metadata": {},
     "output_type": "execute_result"
    }
   ],
   "source": [
    "df.dtypes"
   ]
  },
  {
   "cell_type": "code",
   "execution_count": 40,
   "metadata": {
    "ExecuteTime": {
     "end_time": "2021-05-12T23:08:51.692519Z",
     "start_time": "2021-05-12T23:08:51.090317Z"
    }
   },
   "outputs": [
    {
     "data": {
      "text/html": [
       "<div>\n",
       "<style scoped>\n",
       "    .dataframe tbody tr th:only-of-type {\n",
       "        vertical-align: middle;\n",
       "    }\n",
       "\n",
       "    .dataframe tbody tr th {\n",
       "        vertical-align: top;\n",
       "    }\n",
       "\n",
       "    .dataframe thead th {\n",
       "        text-align: right;\n",
       "    }\n",
       "</style>\n",
       "<table border=\"1\" class=\"dataframe\">\n",
       "  <thead>\n",
       "    <tr style=\"text-align: right;\">\n",
       "      <th></th>\n",
       "      <th>WBANNO</th>\n",
       "      <th>UTC_DATE</th>\n",
       "      <th>UTC_TIME</th>\n",
       "      <th>LST_DATE</th>\n",
       "      <th>LST_TIME</th>\n",
       "      <th>LONGITUDE</th>\n",
       "      <th>LATITUDE</th>\n",
       "      <th>T_HR_AVG</th>\n",
       "      <th>SOLARAD</th>\n",
       "      <th>SUR_TEMP</th>\n",
       "      <th>RH_HR_AVG</th>\n",
       "      <th>STATE</th>\n",
       "      <th>SITE</th>\n",
       "      <th>ELEVATION</th>\n",
       "    </tr>\n",
       "  </thead>\n",
       "  <tbody>\n",
       "    <tr>\n",
       "      <th>2213326</th>\n",
       "      <td>3758</td>\n",
       "      <td>74.0</td>\n",
       "      <td>700.0</td>\n",
       "      <td>74.0</td>\n",
       "      <td>200.0</td>\n",
       "      <td>-79.09</td>\n",
       "      <td>35.97</td>\n",
       "      <td>15.8</td>\n",
       "      <td>0.0</td>\n",
       "      <td>11.9</td>\n",
       "      <td>84.0</td>\n",
       "      <td>NC</td>\n",
       "      <td>Durham</td>\n",
       "      <td>164.000000</td>\n",
       "    </tr>\n",
       "    <tr>\n",
       "      <th>12469944</th>\n",
       "      <td>94085</td>\n",
       "      <td>151.0</td>\n",
       "      <td>300.0</td>\n",
       "      <td>150.0</td>\n",
       "      <td>2100.0</td>\n",
       "      <td>-100.35</td>\n",
       "      <td>44.02</td>\n",
       "      <td>20.0</td>\n",
       "      <td>0.0</td>\n",
       "      <td>16.2</td>\n",
       "      <td>52.0</td>\n",
       "      <td>SD</td>\n",
       "      <td>Pierre</td>\n",
       "      <td>617.559998</td>\n",
       "    </tr>\n",
       "    <tr>\n",
       "      <th>6274584</th>\n",
       "      <td>4128</td>\n",
       "      <td>270.0</td>\n",
       "      <td>2000.0</td>\n",
       "      <td>270.0</td>\n",
       "      <td>1200.0</td>\n",
       "      <td>-119.69</td>\n",
       "      <td>43.47</td>\n",
       "      <td>11.3</td>\n",
       "      <td>131.0</td>\n",
       "      <td>14.3</td>\n",
       "      <td>60.0</td>\n",
       "      <td>OR</td>\n",
       "      <td>Riley</td>\n",
       "      <td>1397.390015</td>\n",
       "    </tr>\n",
       "    <tr>\n",
       "      <th>11556794</th>\n",
       "      <td>54796</td>\n",
       "      <td>63.0</td>\n",
       "      <td>500.0</td>\n",
       "      <td>63.0</td>\n",
       "      <td>0.0</td>\n",
       "      <td>-71.54</td>\n",
       "      <td>41.49</td>\n",
       "      <td>0.0</td>\n",
       "      <td>0.0</td>\n",
       "      <td>-0.3</td>\n",
       "      <td>97.0</td>\n",
       "      <td>RI</td>\n",
       "      <td>Kingston</td>\n",
       "      <td>35.410000</td>\n",
       "    </tr>\n",
       "    <tr>\n",
       "      <th>11257587</th>\n",
       "      <td>93245</td>\n",
       "      <td>6.0</td>\n",
       "      <td>600.0</td>\n",
       "      <td>5.0</td>\n",
       "      <td>2200.0</td>\n",
       "      <td>-123.07</td>\n",
       "      <td>38.32</td>\n",
       "      <td>12.2</td>\n",
       "      <td>0.0</td>\n",
       "      <td>11.4</td>\n",
       "      <td>96.0</td>\n",
       "      <td>CA</td>\n",
       "      <td>Bodega</td>\n",
       "      <td>10.100000</td>\n",
       "    </tr>\n",
       "    <tr>\n",
       "      <th>4648276</th>\n",
       "      <td>23904</td>\n",
       "      <td>195.0</td>\n",
       "      <td>0.0</td>\n",
       "      <td>194.0</td>\n",
       "      <td>1800.0</td>\n",
       "      <td>-91.78</td>\n",
       "      <td>35.82</td>\n",
       "      <td>26.5</td>\n",
       "      <td>117.0</td>\n",
       "      <td>27.9</td>\n",
       "      <td>48.0</td>\n",
       "      <td>AR</td>\n",
       "      <td>Batesville</td>\n",
       "      <td>136.639999</td>\n",
       "    </tr>\n",
       "    <tr>\n",
       "      <th>6739257</th>\n",
       "      <td>63838</td>\n",
       "      <td>351.0</td>\n",
       "      <td>700.0</td>\n",
       "      <td>351.0</td>\n",
       "      <td>200.0</td>\n",
       "      <td>-84.75</td>\n",
       "      <td>38.09</td>\n",
       "      <td>2.1</td>\n",
       "      <td>0.0</td>\n",
       "      <td>2.6</td>\n",
       "      <td>93.0</td>\n",
       "      <td>KY</td>\n",
       "      <td>Versailles</td>\n",
       "      <td>254.339996</td>\n",
       "    </tr>\n",
       "    <tr>\n",
       "      <th>7044697</th>\n",
       "      <td>63849</td>\n",
       "      <td>60.0</td>\n",
       "      <td>300.0</td>\n",
       "      <td>59.0</td>\n",
       "      <td>2100.0</td>\n",
       "      <td>-86.23</td>\n",
       "      <td>37.25</td>\n",
       "      <td>1.4</td>\n",
       "      <td>0.0</td>\n",
       "      <td>1.3</td>\n",
       "      <td>50.0</td>\n",
       "      <td>KY</td>\n",
       "      <td>Bowling</td>\n",
       "      <td>228.339996</td>\n",
       "    </tr>\n",
       "    <tr>\n",
       "      <th>12735925</th>\n",
       "      <td>23909</td>\n",
       "      <td>267.0</td>\n",
       "      <td>1600.0</td>\n",
       "      <td>267.0</td>\n",
       "      <td>1000.0</td>\n",
       "      <td>-91.72</td>\n",
       "      <td>37.63</td>\n",
       "      <td>17.5</td>\n",
       "      <td>209.0</td>\n",
       "      <td>22.9</td>\n",
       "      <td>73.0</td>\n",
       "      <td>MO</td>\n",
       "      <td>Salem</td>\n",
       "      <td>345.600006</td>\n",
       "    </tr>\n",
       "    <tr>\n",
       "      <th>7630621</th>\n",
       "      <td>23907</td>\n",
       "      <td>18.0</td>\n",
       "      <td>1500.0</td>\n",
       "      <td>18.0</td>\n",
       "      <td>900.0</td>\n",
       "      <td>-98.08</td>\n",
       "      <td>30.62</td>\n",
       "      <td>9.8</td>\n",
       "      <td>154.0</td>\n",
       "      <td>5.5</td>\n",
       "      <td>41.0</td>\n",
       "      <td>TX</td>\n",
       "      <td>Austin</td>\n",
       "      <td>355.690002</td>\n",
       "    </tr>\n",
       "  </tbody>\n",
       "</table>\n",
       "</div>"
      ],
      "text/plain": [
       "         WBANNO  UTC_DATE  UTC_TIME  LST_DATE  LST_TIME  LONGITUDE  LATITUDE  \\\n",
       "2213326    3758      74.0     700.0      74.0     200.0     -79.09     35.97   \n",
       "12469944  94085     151.0     300.0     150.0    2100.0    -100.35     44.02   \n",
       "6274584    4128     270.0    2000.0     270.0    1200.0    -119.69     43.47   \n",
       "11556794  54796      63.0     500.0      63.0       0.0     -71.54     41.49   \n",
       "11257587  93245       6.0     600.0       5.0    2200.0    -123.07     38.32   \n",
       "4648276   23904     195.0       0.0     194.0    1800.0     -91.78     35.82   \n",
       "6739257   63838     351.0     700.0     351.0     200.0     -84.75     38.09   \n",
       "7044697   63849      60.0     300.0      59.0    2100.0     -86.23     37.25   \n",
       "12735925  23909     267.0    1600.0     267.0    1000.0     -91.72     37.63   \n",
       "7630621   23907      18.0    1500.0      18.0     900.0     -98.08     30.62   \n",
       "\n",
       "          T_HR_AVG  SOLARAD  SUR_TEMP  RH_HR_AVG STATE        SITE  \\\n",
       "2213326       15.8      0.0      11.9       84.0    NC      Durham   \n",
       "12469944      20.0      0.0      16.2       52.0    SD      Pierre   \n",
       "6274584       11.3    131.0      14.3       60.0    OR       Riley   \n",
       "11556794       0.0      0.0      -0.3       97.0    RI    Kingston   \n",
       "11257587      12.2      0.0      11.4       96.0    CA      Bodega   \n",
       "4648276       26.5    117.0      27.9       48.0    AR  Batesville   \n",
       "6739257        2.1      0.0       2.6       93.0    KY  Versailles   \n",
       "7044697        1.4      0.0       1.3       50.0    KY     Bowling   \n",
       "12735925      17.5    209.0      22.9       73.0    MO       Salem   \n",
       "7630621        9.8    154.0       5.5       41.0    TX      Austin   \n",
       "\n",
       "            ELEVATION  \n",
       "2213326    164.000000  \n",
       "12469944   617.559998  \n",
       "6274584   1397.390015  \n",
       "11556794    35.410000  \n",
       "11257587    10.100000  \n",
       "4648276    136.639999  \n",
       "6739257    254.339996  \n",
       "7044697    228.339996  \n",
       "12735925   345.600006  \n",
       "7630621    355.690002  "
      ]
     },
     "execution_count": 40,
     "metadata": {},
     "output_type": "execute_result"
    }
   ],
   "source": [
    "df.sample(n=10)"
   ]
  },
  {
   "cell_type": "code",
   "execution_count": 42,
   "metadata": {
    "ExecuteTime": {
     "end_time": "2021-05-12T23:11:08.896811Z",
     "start_time": "2021-05-12T23:11:08.009163Z"
    }
   },
   "outputs": [
    {
     "data": {
      "text/html": [
       "<div>\n",
       "<style scoped>\n",
       "    .dataframe tbody tr th:only-of-type {\n",
       "        vertical-align: middle;\n",
       "    }\n",
       "\n",
       "    .dataframe tbody tr th {\n",
       "        vertical-align: top;\n",
       "    }\n",
       "\n",
       "    .dataframe thead th {\n",
       "        text-align: right;\n",
       "    }\n",
       "</style>\n",
       "<table border=\"1\" class=\"dataframe\">\n",
       "  <thead>\n",
       "    <tr style=\"text-align: right;\">\n",
       "      <th></th>\n",
       "      <th>WBANNO</th>\n",
       "      <th>STATE</th>\n",
       "      <th>SITE</th>\n",
       "      <th>UTC_DATE</th>\n",
       "      <th>UTC_TIME</th>\n",
       "      <th>LST_DATE</th>\n",
       "      <th>LST_TIME</th>\n",
       "      <th>LATITUDE</th>\n",
       "      <th>LONGITUDE</th>\n",
       "      <th>ELEVATION</th>\n",
       "      <th>T_HR_AVG</th>\n",
       "      <th>SOLARAD</th>\n",
       "      <th>SUR_TEMP</th>\n",
       "      <th>RH_HR_AVG</th>\n",
       "    </tr>\n",
       "  </thead>\n",
       "  <tbody>\n",
       "    <tr>\n",
       "      <th>7776690</th>\n",
       "      <td>94079</td>\n",
       "      <td>NE</td>\n",
       "      <td>Whitman</td>\n",
       "      <td>264.0</td>\n",
       "      <td>2000.0</td>\n",
       "      <td>264.0</td>\n",
       "      <td>1300.0</td>\n",
       "      <td>42.07</td>\n",
       "      <td>-101.44</td>\n",
       "      <td>1071.489990</td>\n",
       "      <td>30.1</td>\n",
       "      <td>786.0</td>\n",
       "      <td>38.7</td>\n",
       "      <td>14.0</td>\n",
       "    </tr>\n",
       "    <tr>\n",
       "      <th>12174374</th>\n",
       "      <td>53136</td>\n",
       "      <td>NV</td>\n",
       "      <td>Mercury</td>\n",
       "      <td>245.0</td>\n",
       "      <td>1700.0</td>\n",
       "      <td>245.0</td>\n",
       "      <td>900.0</td>\n",
       "      <td>36.62</td>\n",
       "      <td>-116.02</td>\n",
       "      <td>993.739990</td>\n",
       "      <td>29.7</td>\n",
       "      <td>180.0</td>\n",
       "      <td>32.5</td>\n",
       "      <td>27.0</td>\n",
       "    </tr>\n",
       "    <tr>\n",
       "      <th>3546157</th>\n",
       "      <td>53151</td>\n",
       "      <td>CA</td>\n",
       "      <td>Fallbrook</td>\n",
       "      <td>73.0</td>\n",
       "      <td>200.0</td>\n",
       "      <td>72.0</td>\n",
       "      <td>1800.0</td>\n",
       "      <td>33.44</td>\n",
       "      <td>-117.19</td>\n",
       "      <td>194.520004</td>\n",
       "      <td>20.8</td>\n",
       "      <td>37.0</td>\n",
       "      <td>24.1</td>\n",
       "      <td>43.0</td>\n",
       "    </tr>\n",
       "    <tr>\n",
       "      <th>10693669</th>\n",
       "      <td>94079</td>\n",
       "      <td>NE</td>\n",
       "      <td>Whitman</td>\n",
       "      <td>179.0</td>\n",
       "      <td>1500.0</td>\n",
       "      <td>179.0</td>\n",
       "      <td>800.0</td>\n",
       "      <td>42.07</td>\n",
       "      <td>-101.44</td>\n",
       "      <td>1071.489990</td>\n",
       "      <td>22.9</td>\n",
       "      <td>277.0</td>\n",
       "      <td>25.6</td>\n",
       "      <td>85.0</td>\n",
       "    </tr>\n",
       "    <tr>\n",
       "      <th>11861887</th>\n",
       "      <td>3063</td>\n",
       "      <td>CO</td>\n",
       "      <td>La</td>\n",
       "      <td>365.0</td>\n",
       "      <td>1000.0</td>\n",
       "      <td>365.0</td>\n",
       "      <td>300.0</td>\n",
       "      <td>37.86</td>\n",
       "      <td>-103.82</td>\n",
       "      <td>1333.469971</td>\n",
       "      <td>-13.0</td>\n",
       "      <td>0.0</td>\n",
       "      <td>-12.3</td>\n",
       "      <td>77.0</td>\n",
       "    </tr>\n",
       "    <tr>\n",
       "      <th>8534169</th>\n",
       "      <td>3047</td>\n",
       "      <td>TX</td>\n",
       "      <td>Monahans</td>\n",
       "      <td>55.0</td>\n",
       "      <td>1100.0</td>\n",
       "      <td>55.0</td>\n",
       "      <td>500.0</td>\n",
       "      <td>31.62</td>\n",
       "      <td>-102.81</td>\n",
       "      <td>829.320007</td>\n",
       "      <td>-0.9</td>\n",
       "      <td>0.0</td>\n",
       "      <td>-2.4</td>\n",
       "      <td>92.0</td>\n",
       "    </tr>\n",
       "    <tr>\n",
       "      <th>1241659</th>\n",
       "      <td>23908</td>\n",
       "      <td>MO</td>\n",
       "      <td>Joplin</td>\n",
       "      <td>17.0</td>\n",
       "      <td>2100.0</td>\n",
       "      <td>17.0</td>\n",
       "      <td>1500.0</td>\n",
       "      <td>37.43</td>\n",
       "      <td>-94.58</td>\n",
       "      <td>285.579987</td>\n",
       "      <td>6.5</td>\n",
       "      <td>65.0</td>\n",
       "      <td>6.8</td>\n",
       "      <td>83.0</td>\n",
       "    </tr>\n",
       "    <tr>\n",
       "      <th>2164350</th>\n",
       "      <td>54795</td>\n",
       "      <td>NH</td>\n",
       "      <td>Durham</td>\n",
       "      <td>229.0</td>\n",
       "      <td>1500.0</td>\n",
       "      <td>229.0</td>\n",
       "      <td>1000.0</td>\n",
       "      <td>43.11</td>\n",
       "      <td>-70.95</td>\n",
       "      <td>9.840000</td>\n",
       "      <td>22.4</td>\n",
       "      <td>575.0</td>\n",
       "      <td>26.3</td>\n",
       "      <td>80.0</td>\n",
       "    </tr>\n",
       "    <tr>\n",
       "      <th>6067813</th>\n",
       "      <td>54811</td>\n",
       "      <td>IL</td>\n",
       "      <td>Shabbona</td>\n",
       "      <td>19.0</td>\n",
       "      <td>200.0</td>\n",
       "      <td>18.0</td>\n",
       "      <td>2000.0</td>\n",
       "      <td>41.84</td>\n",
       "      <td>-88.85</td>\n",
       "      <td>264.660004</td>\n",
       "      <td>-12.9</td>\n",
       "      <td>0.0</td>\n",
       "      <td>-16.2</td>\n",
       "      <td>89.0</td>\n",
       "    </tr>\n",
       "    <tr>\n",
       "      <th>7682249</th>\n",
       "      <td>4236</td>\n",
       "      <td>OR</td>\n",
       "      <td>Corvallis</td>\n",
       "      <td>344.0</td>\n",
       "      <td>1900.0</td>\n",
       "      <td>344.0</td>\n",
       "      <td>1100.0</td>\n",
       "      <td>44.42</td>\n",
       "      <td>-123.33</td>\n",
       "      <td>79.160004</td>\n",
       "      <td>10.2</td>\n",
       "      <td>164.0</td>\n",
       "      <td>10.0</td>\n",
       "      <td>76.0</td>\n",
       "    </tr>\n",
       "  </tbody>\n",
       "</table>\n",
       "</div>"
      ],
      "text/plain": [
       "         WBANNO STATE       SITE  UTC_DATE  UTC_TIME  LST_DATE  LST_TIME  \\\n",
       "7776690   94079    NE    Whitman     264.0    2000.0     264.0    1300.0   \n",
       "12174374  53136    NV    Mercury     245.0    1700.0     245.0     900.0   \n",
       "3546157   53151    CA  Fallbrook      73.0     200.0      72.0    1800.0   \n",
       "10693669  94079    NE    Whitman     179.0    1500.0     179.0     800.0   \n",
       "11861887   3063    CO         La     365.0    1000.0     365.0     300.0   \n",
       "8534169    3047    TX   Monahans      55.0    1100.0      55.0     500.0   \n",
       "1241659   23908    MO     Joplin      17.0    2100.0      17.0    1500.0   \n",
       "2164350   54795    NH     Durham     229.0    1500.0     229.0    1000.0   \n",
       "6067813   54811    IL   Shabbona      19.0     200.0      18.0    2000.0   \n",
       "7682249    4236    OR  Corvallis     344.0    1900.0     344.0    1100.0   \n",
       "\n",
       "          LATITUDE  LONGITUDE    ELEVATION  T_HR_AVG  SOLARAD  SUR_TEMP  \\\n",
       "7776690      42.07    -101.44  1071.489990      30.1    786.0      38.7   \n",
       "12174374     36.62    -116.02   993.739990      29.7    180.0      32.5   \n",
       "3546157      33.44    -117.19   194.520004      20.8     37.0      24.1   \n",
       "10693669     42.07    -101.44  1071.489990      22.9    277.0      25.6   \n",
       "11861887     37.86    -103.82  1333.469971     -13.0      0.0     -12.3   \n",
       "8534169      31.62    -102.81   829.320007      -0.9      0.0      -2.4   \n",
       "1241659      37.43     -94.58   285.579987       6.5     65.0       6.8   \n",
       "2164350      43.11     -70.95     9.840000      22.4    575.0      26.3   \n",
       "6067813      41.84     -88.85   264.660004     -12.9      0.0     -16.2   \n",
       "7682249      44.42    -123.33    79.160004      10.2    164.0      10.0   \n",
       "\n",
       "          RH_HR_AVG  \n",
       "7776690        14.0  \n",
       "12174374       27.0  \n",
       "3546157        43.0  \n",
       "10693669       85.0  \n",
       "11861887       77.0  \n",
       "8534169        92.0  \n",
       "1241659        83.0  \n",
       "2164350        80.0  \n",
       "6067813        89.0  \n",
       "7682249        76.0  "
      ]
     },
     "execution_count": 42,
     "metadata": {},
     "output_type": "execute_result"
    }
   ],
   "source": [
    "# df.columns.to_list()\n",
    "df = df[\n",
    "    [\n",
    "        \"WBANNO\",\n",
    "        \"STATE\",\n",
    "        \"SITE\",\n",
    "        \"UTC_DATE\",\n",
    "        \"UTC_TIME\",\n",
    "        \"LST_DATE\",\n",
    "        \"LST_TIME\",\n",
    "        \"LATITUDE\",\n",
    "        \"LONGITUDE\",\n",
    "        \"ELEVATION\",\n",
    "        \"T_HR_AVG\",\n",
    "        \"SOLARAD\",\n",
    "        \"SUR_TEMP\",\n",
    "        \"RH_HR_AVG\",\n",
    "    ]\n",
    "]\n",
    "\n",
    "df.sample(n=10)"
   ]
  },
  {
   "cell_type": "code",
   "execution_count": 44,
   "metadata": {
    "ExecuteTime": {
     "end_time": "2021-05-12T23:13:19.762747Z",
     "start_time": "2021-05-12T23:13:16.213056Z"
    }
   },
   "outputs": [
    {
     "data": {
      "image/png": "[encoded data removed]",
      "text/plain": [
       "<Figure size 864x864 with 2 Axes>"
      ]
     },
     "metadata": {
      "needs_background": "light"
     },
     "output_type": "display_data"
    }
   ],
   "source": [
    "_, ax = plt.subplots(figsize=(12, 12))\n",
    "sns.heatmap(df.corr().abs(), annot=True, cmap=plt.cm.Reds, ax=ax)\n",
    "plt.yticks(rotation=0);"
   ]
  },
  {
   "cell_type": "code",
   "execution_count": 43,
   "metadata": {
    "ExecuteTime": {
     "end_time": "2021-05-12T23:12:58.977521Z",
     "start_time": "2021-05-12T23:11:17.281712Z"
    }
   },
   "outputs": [],
   "source": [
    "df.to_pickle(data_dir / \"USWeatherData2011To2020.bz2\")"
   ]
  },
  {
   "cell_type": "code",
   "execution_count": null,
   "metadata": {},
   "outputs": [],
   "source": []
  }
 ],
 "metadata": {
  "kernelspec": {
   "display_name": "Python 3",
   "language": "python",
   "name": "python3"
  },
  "language_info": {
   "codemirror_mode": {
    "name": "ipython",
    "version": 3
   },
   "file_extension": ".py",
   "mimetype": "text/x-python",
   "name": "python",
   "nbconvert_exporter": "python",
   "pygments_lexer": "ipython3",
   "version": "3.8.5"
  },
  "toc": {
   "base_numbering": 1,
   "nav_menu": {},
   "number_sections": true,
   "sideBar": true,
   "skip_h1_title": false,
   "title_cell": "Table of Contents",
   "title_sidebar": "Contents",
   "toc_cell": false,
   "toc_position": {},
   "toc_section_display": true,
   "toc_window_display": false
  }
 },
 "nbformat": 4,
 "nbformat_minor": 4
}
